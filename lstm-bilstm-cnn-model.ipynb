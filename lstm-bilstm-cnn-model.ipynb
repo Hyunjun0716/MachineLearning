{
 "cells": [
  {
   "cell_type": "code",
   "execution_count": 1,
   "id": "47b1a33a",
   "metadata": {
    "_cell_guid": "b1076dfc-b9ad-4769-8c92-a6c4dae69d19",
    "_uuid": "8f2839f25d086af736a60e9eeb907d3b93b6e0e5",
    "execution": {
     "iopub.execute_input": "2025-05-21T07:57:28.272210Z",
     "iopub.status.busy": "2025-05-21T07:57:28.271899Z",
     "iopub.status.idle": "2025-05-21T07:57:47.434257Z",
     "shell.execute_reply": "2025-05-21T07:57:47.433338Z"
    },
    "papermill": {
     "duration": 19.171925,
     "end_time": "2025-05-21T07:57:47.435985",
     "exception": false,
     "start_time": "2025-05-21T07:57:28.264060",
     "status": "completed"
    },
    "tags": []
   },
   "outputs": [],
   "source": [
    "import pandas as pd\n",
    "import numpy as np\n",
    "import re\n",
    "import string\n",
    "import torch\n",
    "import torch.nn as nn\n",
    "import torch.optim as optim\n",
    "from torch.utils.data import DataLoader, Dataset\n",
    "from sklearn.model_selection import train_test_split\n",
    "from tensorflow.keras.preprocessing.text import Tokenizer\n",
    "from tensorflow.keras.preprocessing.sequence import pad_sequences\n",
    "from skopt import gp_minimize\n",
    "from skopt.space import Integer, Real\n",
    "from skopt.utils import use_named_args\n",
    "from sklearn.metrics import classification_report, accuracy_score\n",
    "import time\n",
    "import joblib"
   ]
  },
  {
   "cell_type": "code",
   "execution_count": 2,
   "id": "51ef2ee4",
   "metadata": {
    "execution": {
     "iopub.execute_input": "2025-05-21T07:57:47.447420Z",
     "iopub.status.busy": "2025-05-21T07:57:47.446950Z",
     "iopub.status.idle": "2025-05-21T07:57:47.503808Z",
     "shell.execute_reply": "2025-05-21T07:57:47.502826Z"
    },
    "papermill": {
     "duration": 0.063818,
     "end_time": "2025-05-21T07:57:47.505241",
     "exception": false,
     "start_time": "2025-05-21T07:57:47.441423",
     "status": "completed"
    },
    "tags": []
   },
   "outputs": [
    {
     "name": "stdout",
     "output_type": "stream",
     "text": [
      "Using device: cuda\n"
     ]
    }
   ],
   "source": [
    "# Check for GPU availability\n",
    "device = torch.device(\"cuda\" if torch.cuda.is_available() else \"cpu\")\n",
    "print(f\"Using device: {device}\")"
   ]
  },
  {
   "cell_type": "code",
   "execution_count": 3,
   "id": "8ca81af2",
   "metadata": {
    "execution": {
     "iopub.execute_input": "2025-05-21T07:57:47.516698Z",
     "iopub.status.busy": "2025-05-21T07:57:47.516403Z",
     "iopub.status.idle": "2025-05-21T07:57:50.383152Z",
     "shell.execute_reply": "2025-05-21T07:57:50.382071Z"
    },
    "papermill": {
     "duration": 2.874384,
     "end_time": "2025-05-21T07:57:50.385073",
     "exception": false,
     "start_time": "2025-05-21T07:57:47.510689",
     "status": "completed"
    },
    "tags": []
   },
   "outputs": [],
   "source": [
    "# Load dataset\n",
    "df_fake = pd.read_csv(\"/kaggle/input/fake-and-real-news-dataset/Fake.csv\")\n",
    "df_true = pd.read_csv(\"/kaggle/input/fake-and-real-news-dataset/True.csv\")\n",
    "df_fake[\"class\"] = 0\n",
    "df_true[\"class\"] = 1\n",
    "df = pd.concat([df_fake, df_true], axis=0).sample(frac=1).reset_index(drop=True)\n",
    "df = df.drop([\"title\", \"subject\", \"date\"], axis=1)"
   ]
  },
  {
   "cell_type": "code",
   "execution_count": 4,
   "id": "4cb99ce5",
   "metadata": {
    "execution": {
     "iopub.execute_input": "2025-05-21T07:57:50.398265Z",
     "iopub.status.busy": "2025-05-21T07:57:50.398005Z",
     "iopub.status.idle": "2025-05-21T07:58:09.642407Z",
     "shell.execute_reply": "2025-05-21T07:58:09.641640Z"
    },
    "papermill": {
     "duration": 19.252449,
     "end_time": "2025-05-21T07:58:09.644043",
     "exception": false,
     "start_time": "2025-05-21T07:57:50.391594",
     "status": "completed"
    },
    "tags": []
   },
   "outputs": [],
   "source": [
    "# Preprocessing function\n",
    "def clean_text(text):\n",
    "    text = text.lower()\n",
    "    text = re.sub(\"\\[.*?\\]\", \"\", text)\n",
    "    text = re.sub(\"\\\\W\", \" \", text)\n",
    "    text = re.sub(\"https?://\\\\S+|www\\\\.\\\\S+\", \"\", text)\n",
    "    text = re.sub(\"<.*?>+\", \"\", text)\n",
    "    text = re.sub(\"[%s]\" % re.escape(string.punctuation), \"\", text)\n",
    "    text = re.sub(\"\\\\n\", \"\", text)\n",
    "    text = re.sub(\"\\\\w*\\\\d\\\\w*\", \"\", text)    \n",
    "    return text\n",
    "\n",
    "df[\"text\"] = df[\"text\"].apply(clean_text)"
   ]
  },
  {
   "cell_type": "code",
   "execution_count": 5,
   "id": "4e664c7d",
   "metadata": {
    "execution": {
     "iopub.execute_input": "2025-05-21T07:58:09.656687Z",
     "iopub.status.busy": "2025-05-21T07:58:09.656368Z",
     "iopub.status.idle": "2025-05-21T07:58:09.665306Z",
     "shell.execute_reply": "2025-05-21T07:58:09.664711Z"
    },
    "papermill": {
     "duration": 0.01644,
     "end_time": "2025-05-21T07:58:09.666525",
     "exception": false,
     "start_time": "2025-05-21T07:58:09.650085",
     "status": "completed"
    },
    "tags": []
   },
   "outputs": [],
   "source": [
    "# Train-test split\n",
    "x_train_text, x_test_text, y_train, y_test = train_test_split(df[\"text\"], df[\"class\"].values, test_size=0.25, random_state=42)"
   ]
  },
  {
   "cell_type": "code",
   "execution_count": 6,
   "id": "5297edcb",
   "metadata": {
    "execution": {
     "iopub.execute_input": "2025-05-21T07:58:09.677361Z",
     "iopub.status.busy": "2025-05-21T07:58:09.677127Z",
     "iopub.status.idle": "2025-05-21T07:58:24.358035Z",
     "shell.execute_reply": "2025-05-21T07:58:24.357254Z"
    },
    "papermill": {
     "duration": 14.687925,
     "end_time": "2025-05-21T07:58:24.359520",
     "exception": false,
     "start_time": "2025-05-21T07:58:09.671595",
     "status": "completed"
    },
    "tags": []
   },
   "outputs": [],
   "source": [
    "# Tokenization\n",
    "tokenizer = Tokenizer(num_words=5000, lower=True, oov_token='<OOV>')\n",
    "tokenizer.fit_on_texts(x_train_text)\n",
    "x_train = tokenizer.texts_to_sequences(x_train_text)\n",
    "x_test = tokenizer.texts_to_sequences(x_test_text)\n",
    "x_train = pad_sequences(x_train, maxlen=200, padding='post', truncating='post')\n",
    "x_test = pad_sequences(x_test, maxlen=200, padding='post', truncating='post')"
   ]
  },
  {
   "cell_type": "code",
   "execution_count": 7,
   "id": "f51cec09",
   "metadata": {
    "execution": {
     "iopub.execute_input": "2025-05-21T07:58:24.370778Z",
     "iopub.status.busy": "2025-05-21T07:58:24.370503Z",
     "iopub.status.idle": "2025-05-21T07:58:26.250854Z",
     "shell.execute_reply": "2025-05-21T07:58:26.249991Z"
    },
    "papermill": {
     "duration": 1.887302,
     "end_time": "2025-05-21T07:58:26.252204",
     "exception": false,
     "start_time": "2025-05-21T07:58:24.364902",
     "status": "completed"
    },
    "tags": []
   },
   "outputs": [
    {
     "data": {
      "text/plain": [
       "['tokenizer.pkl']"
      ]
     },
     "execution_count": 7,
     "metadata": {},
     "output_type": "execute_result"
    }
   ],
   "source": [
    "# Save tokenizer\n",
    "joblib.dump(tokenizer, 'tokenizer.pkl')"
   ]
  },
  {
   "cell_type": "code",
   "execution_count": 8,
   "id": "b6278a44",
   "metadata": {
    "execution": {
     "iopub.execute_input": "2025-05-21T07:58:26.263301Z",
     "iopub.status.busy": "2025-05-21T07:58:26.263045Z",
     "iopub.status.idle": "2025-05-21T07:58:26.541405Z",
     "shell.execute_reply": "2025-05-21T07:58:26.540651Z"
    },
    "papermill": {
     "duration": 0.285665,
     "end_time": "2025-05-21T07:58:26.543065",
     "exception": false,
     "start_time": "2025-05-21T07:58:26.257400",
     "status": "completed"
    },
    "tags": []
   },
   "outputs": [],
   "source": [
    "# Convert to PyTorch tensors\n",
    "x_train_torch = torch.tensor(x_train, dtype=torch.long, device=device)\n",
    "y_train_torch = torch.tensor(y_train, dtype=torch.float32, device=device)\n",
    "x_test_torch = torch.tensor(x_test, dtype=torch.long, device=device)\n",
    "y_test_torch = torch.tensor(y_test, dtype=torch.float32, device=device)"
   ]
  },
  {
   "cell_type": "code",
   "execution_count": 9,
   "id": "41041935",
   "metadata": {
    "execution": {
     "iopub.execute_input": "2025-05-21T07:58:26.554509Z",
     "iopub.status.busy": "2025-05-21T07:58:26.554233Z",
     "iopub.status.idle": "2025-05-21T07:58:26.560455Z",
     "shell.execute_reply": "2025-05-21T07:58:26.559636Z"
    },
    "papermill": {
     "duration": 0.013035,
     "end_time": "2025-05-21T07:58:26.561757",
     "exception": false,
     "start_time": "2025-05-21T07:58:26.548722",
     "status": "completed"
    },
    "tags": []
   },
   "outputs": [],
   "source": [
    "# PyTorch Dataset & DataLoader\n",
    "class TextDataset(Dataset):\n",
    "    def __init__(self, x, y):\n",
    "        self.x = x\n",
    "        self.y = y\n",
    "    def __len__(self):\n",
    "        return len(self.y)\n",
    "    def __getitem__(self, idx):\n",
    "        return self.x[idx], self.y[idx]\n",
    "\n",
    "train_dataset = TextDataset(x_train_torch, y_train_torch)\n",
    "test_dataset = TextDataset(x_test_torch, y_test_torch)\n",
    "train_loader = DataLoader(train_dataset, batch_size=32, shuffle=True)\n",
    "test_loader = DataLoader(test_dataset, batch_size=32, shuffle=False)"
   ]
  },
  {
   "cell_type": "markdown",
   "id": "e3a3a0a1",
   "metadata": {
    "papermill": {
     "duration": 0.004833,
     "end_time": "2025-05-21T07:58:26.571625",
     "exception": false,
     "start_time": "2025-05-21T07:58:26.566792",
     "status": "completed"
    },
    "tags": []
   },
   "source": [
    "# LSTM"
   ]
  },
  {
   "cell_type": "code",
   "execution_count": 10,
   "id": "5b24d456",
   "metadata": {
    "execution": {
     "iopub.execute_input": "2025-05-21T07:58:26.582368Z",
     "iopub.status.busy": "2025-05-21T07:58:26.582144Z",
     "iopub.status.idle": "2025-05-21T07:58:26.586736Z",
     "shell.execute_reply": "2025-05-21T07:58:26.586110Z"
    },
    "papermill": {
     "duration": 0.011459,
     "end_time": "2025-05-21T07:58:26.588032",
     "exception": false,
     "start_time": "2025-05-21T07:58:26.576573",
     "status": "completed"
    },
    "tags": []
   },
   "outputs": [],
   "source": [
    "# Define PyTorch LSTM Model\n",
    "class LSTMClassifier(nn.Module):\n",
    "    def __init__(self, embed_dim, hidden_dim, num_layers, dropout):\n",
    "        super(LSTMClassifier, self).__init__()\n",
    "        self.embedding = nn.Embedding(num_embeddings=5000, embedding_dim=embed_dim)\n",
    "        self.lstm = nn.LSTM(\n",
    "            embed_dim, hidden_dim, num_layers=num_layers, \n",
    "            batch_first=True, dropout=dropout if num_layers > 1 else 0.0\n",
    "        )\n",
    "        self.fc = nn.Linear(hidden_dim, 1)\n",
    "        self.sigmoid = nn.Sigmoid()\n",
    "    \n",
    "    def forward(self, x):\n",
    "        x = self.embedding(x)\n",
    "        _, (hn, _) = self.lstm(x)\n",
    "        x = self.fc(hn[-1])\n",
    "        return self.sigmoid(x).view(-1)"
   ]
  },
  {
   "cell_type": "code",
   "execution_count": 11,
   "id": "38f2b2d9",
   "metadata": {
    "execution": {
     "iopub.execute_input": "2025-05-21T07:58:26.598928Z",
     "iopub.status.busy": "2025-05-21T07:58:26.598717Z",
     "iopub.status.idle": "2025-05-21T07:58:26.607682Z",
     "shell.execute_reply": "2025-05-21T07:58:26.607073Z"
    },
    "papermill": {
     "duration": 0.015761,
     "end_time": "2025-05-21T07:58:26.609007",
     "exception": false,
     "start_time": "2025-05-21T07:58:26.593246",
     "status": "completed"
    },
    "tags": []
   },
   "outputs": [],
   "source": [
    "# Bayesian Optimization Search Space\n",
    "search_space = [\n",
    "    Integer(32, 256, name='embed_dim'),\n",
    "    Integer(32, 256, name='hidden_dim'),\n",
    "    Integer(1, 3, name='num_layers'),\n",
    "    Real(0.1, 0.5, name='dropout')\n",
    "]\n",
    "\n",
    "criterion = nn.BCELoss()\n",
    "\n",
    "device = torch.device(\"cuda\" if torch.cuda.is_available() else \"cpu\")\n",
    "\n",
    "@use_named_args(search_space)\n",
    "def objective(embed_dim, hidden_dim, num_layers, dropout):\n",
    "    model = LSTMClassifier(\n",
    "        int(embed_dim),\n",
    "        int(hidden_dim),\n",
    "        int(num_layers),\n",
    "        float(dropout)\n",
    "    ).to(device)\n",
    "    \n",
    "    optimizer = optim.Adam(model.parameters(), lr=0.001)\n",
    "    \n",
    "    for epoch in range(3):\n",
    "        for x_batch, y_batch in train_loader:\n",
    "            x_batch, y_batch = x_batch.to(device), y_batch.to(device)\n",
    "            optimizer.zero_grad()\n",
    "            y_pred = model(x_batch).view(-1)\n",
    "            loss = criterion(y_pred, y_batch.float())\n",
    "            loss.backward()\n",
    "            optimizer.step()\n",
    "    \n",
    "    total_loss = 0\n",
    "    with torch.no_grad():\n",
    "        for x_batch, y_batch in test_loader:\n",
    "            x_batch, y_batch = x_batch.to(device), y_batch.to(device)\n",
    "            y_pred = model(x_batch).view(-1)\n",
    "            loss = criterion(y_pred, y_batch.float())\n",
    "            total_loss += loss.item()\n",
    "    \n",
    "    return total_loss / len(test_loader)\n",
    "\n",
    "start_time_opt = time.time()"
   ]
  },
  {
   "cell_type": "code",
   "execution_count": 12,
   "id": "57560c2a",
   "metadata": {
    "execution": {
     "iopub.execute_input": "2025-05-21T07:58:26.619754Z",
     "iopub.status.busy": "2025-05-21T07:58:26.619502Z",
     "iopub.status.idle": "2025-05-21T08:05:37.864763Z",
     "shell.execute_reply": "2025-05-21T08:05:37.863743Z"
    },
    "papermill": {
     "duration": 431.257266,
     "end_time": "2025-05-21T08:05:37.871353",
     "exception": false,
     "start_time": "2025-05-21T07:58:26.614087",
     "status": "completed"
    },
    "tags": []
   },
   "outputs": [
    {
     "name": "stdout",
     "output_type": "stream",
     "text": [
      "Best LSTM Parameters: embed_dim=52, hidden_dim=171, num_layers=2, dropout=0.49329235432271534\n"
     ]
    }
   ],
   "source": [
    "# Run Bayesian Optimization for LSTM\n",
    "result = gp_minimize(objective, search_space, n_calls=10, random_state=42)\n",
    "print(f\"Best LSTM Parameters: embed_dim={result.x[0]}, hidden_dim={result.x[1]}, num_layers={result.x[2]}, dropout={result.x[3]}\")\n",
    "opt_time = time.time() - start_time_opt"
   ]
  },
  {
   "cell_type": "code",
   "execution_count": 13,
   "id": "9f84acb3",
   "metadata": {
    "execution": {
     "iopub.execute_input": "2025-05-21T08:05:37.883407Z",
     "iopub.status.busy": "2025-05-21T08:05:37.882870Z",
     "iopub.status.idle": "2025-05-21T08:08:17.857800Z",
     "shell.execute_reply": "2025-05-21T08:08:17.856970Z"
    },
    "papermill": {
     "duration": 159.982634,
     "end_time": "2025-05-21T08:08:17.859578",
     "exception": false,
     "start_time": "2025-05-21T08:05:37.876944",
     "status": "completed"
    },
    "tags": []
   },
   "outputs": [],
   "source": [
    "# Measure training time\n",
    "start_time_train = time.time()\n",
    "\n",
    "# Train final model with best hyperparameters\n",
    "best_lstm = LSTMClassifier(\n",
    "    int(result.x[0]),\n",
    "    int(result.x[1]),\n",
    "    int(result.x[2]),\n",
    "    float(result.x[3])\n",
    ").to(device)\n",
    "\n",
    "optimizer = optim.Adam(best_lstm.parameters(), lr=0.001)\n",
    "\n",
    "for epoch in range(5):\n",
    "    for x_batch, y_batch in train_loader:\n",
    "        x_batch, y_batch = x_batch.to(device), y_batch.to(device)\n",
    "        optimizer.zero_grad()\n",
    "        y_pred = best_lstm(x_batch).view(-1)\n",
    "        loss = criterion(y_pred, y_batch.float())\n",
    "        loss.backward()\n",
    "        optimizer.step()\n",
    "train_time = time.time() - start_time_train"
   ]
  },
  {
   "cell_type": "code",
   "execution_count": 14,
   "id": "1d170f8c",
   "metadata": {
    "execution": {
     "iopub.execute_input": "2025-05-21T08:08:17.871962Z",
     "iopub.status.busy": "2025-05-21T08:08:17.871686Z",
     "iopub.status.idle": "2025-05-21T08:08:17.908060Z",
     "shell.execute_reply": "2025-05-21T08:08:17.907045Z"
    },
    "papermill": {
     "duration": 0.044119,
     "end_time": "2025-05-21T08:08:17.909659",
     "exception": false,
     "start_time": "2025-05-21T08:08:17.865540",
     "status": "completed"
    },
    "tags": []
   },
   "outputs": [],
   "source": [
    "torch.save(best_lstm.state_dict(), 'lstm_model.pth')"
   ]
  },
  {
   "cell_type": "code",
   "execution_count": 15,
   "id": "2bbb500b",
   "metadata": {
    "execution": {
     "iopub.execute_input": "2025-05-21T08:08:17.921524Z",
     "iopub.status.busy": "2025-05-21T08:08:17.921276Z",
     "iopub.status.idle": "2025-05-21T08:08:23.989398Z",
     "shell.execute_reply": "2025-05-21T08:08:23.988637Z"
    },
    "papermill": {
     "duration": 6.075742,
     "end_time": "2025-05-21T08:08:23.991086",
     "exception": false,
     "start_time": "2025-05-21T08:08:17.915344",
     "status": "completed"
    },
    "tags": []
   },
   "outputs": [],
   "source": [
    "# Measure evaluation time\n",
    "start_time_eval = time.time()\n",
    "\n",
    "# Model Testing and Evaluation\n",
    "y_true = []\n",
    "y_pred = []\n",
    "with torch.no_grad():\n",
    "    for x_batch, y_batch in test_loader:\n",
    "        x_batch, y_batch = x_batch.to(device), y_batch.to(device)\n",
    "        outputs = best_lstm(x_batch).view(-1)\n",
    "        predictions = (outputs > 0.5).float()\n",
    "        y_true.extend(y_batch.cpu().numpy())\n",
    "        y_pred.extend(predictions.cpu().numpy())\n",
    "pred_time = time.time() - start_time_eval\n",
    "\n",
    "# Compute accuracy and classification report\n",
    "accuracy = accuracy_score(y_true, y_pred)\n",
    "report = classification_report(y_true, y_pred)\n",
    "\n",
    "# Total execution time\n",
    "total_time = opt_time + train_time + pred_time"
   ]
  },
  {
   "cell_type": "code",
   "execution_count": 16,
   "id": "4dc7fd76",
   "metadata": {
    "execution": {
     "iopub.execute_input": "2025-05-21T08:08:24.003220Z",
     "iopub.status.busy": "2025-05-21T08:08:24.002956Z",
     "iopub.status.idle": "2025-05-21T08:08:24.008821Z",
     "shell.execute_reply": "2025-05-21T08:08:24.007908Z"
    },
    "papermill": {
     "duration": 0.013169,
     "end_time": "2025-05-21T08:08:24.010130",
     "exception": false,
     "start_time": "2025-05-21T08:08:23.996961",
     "status": "completed"
    },
    "tags": []
   },
   "outputs": [
    {
     "name": "stdout",
     "output_type": "stream",
     "text": [
      "LSTM Model Accuracy: 0.9983073496659243\n",
      "LSTM Hyperparameter Optimization Time: 431.26 seconds\n",
      "LSTM Training Time: 159.97 seconds\n",
      "LSTM Prediction Time: 6.04 seconds\n",
      "Total Execution Time: 597.26 seconds\n",
      "              precision    recall  f1-score   support\n",
      "\n",
      "         0.0       1.00      1.00      1.00      5856\n",
      "         1.0       1.00      1.00      1.00      5369\n",
      "\n",
      "    accuracy                           1.00     11225\n",
      "   macro avg       1.00      1.00      1.00     11225\n",
      "weighted avg       1.00      1.00      1.00     11225\n",
      "\n",
      "LSTM optimization completed.\n"
     ]
    }
   ],
   "source": [
    "# Print Results\n",
    "print(f\"LSTM Model Accuracy: {accuracy}\")\n",
    "print(f\"LSTM Hyperparameter Optimization Time: {opt_time:.2f} seconds\")\n",
    "print(f\"LSTM Training Time: {train_time:.2f} seconds\")\n",
    "print(f\"LSTM Prediction Time: {pred_time:.2f} seconds\")\n",
    "print(f\"Total Execution Time: {total_time:.2f} seconds\")\n",
    "print(report)\n",
    "print(\"LSTM optimization completed.\")"
   ]
  },
  {
   "cell_type": "markdown",
   "id": "3f3819f4",
   "metadata": {
    "papermill": {
     "duration": 0.005342,
     "end_time": "2025-05-21T08:08:24.020869",
     "exception": false,
     "start_time": "2025-05-21T08:08:24.015527",
     "status": "completed"
    },
    "tags": []
   },
   "source": [
    "# BiLSTM"
   ]
  },
  {
   "cell_type": "code",
   "execution_count": 17,
   "id": "719ce8b3",
   "metadata": {
    "execution": {
     "iopub.execute_input": "2025-05-21T08:08:24.032464Z",
     "iopub.status.busy": "2025-05-21T08:08:24.032189Z",
     "iopub.status.idle": "2025-05-21T08:08:24.037536Z",
     "shell.execute_reply": "2025-05-21T08:08:24.036915Z"
    },
    "papermill": {
     "duration": 0.012534,
     "end_time": "2025-05-21T08:08:24.038766",
     "exception": false,
     "start_time": "2025-05-21T08:08:24.026232",
     "status": "completed"
    },
    "tags": []
   },
   "outputs": [],
   "source": [
    "# Define PyTorch BiLSTM Model\n",
    "class BiLSTMClassifier(nn.Module):\n",
    "    def __init__(self, embed_dim, hidden_dim, num_layers, dropout):\n",
    "        super(BiLSTMClassifier, self).__init__()\n",
    "        self.embedding = nn.Embedding(num_embeddings=5000, embedding_dim=embed_dim)\n",
    "        self.bilstm = nn.LSTM(\n",
    "            embed_dim, hidden_dim, num_layers=num_layers, batch_first=True, \n",
    "            dropout=dropout if num_layers > 1 else 0.0, bidirectional=True\n",
    "        )\n",
    "        self.fc = nn.Linear(hidden_dim * 2, 1)\n",
    "        self.sigmoid = nn.Sigmoid()\n",
    "    \n",
    "    def forward(self, x):\n",
    "        x = self.embedding(x)\n",
    "        _, (hn, _) = self.bilstm(x)\n",
    "        x = self.fc(torch.cat((hn[-2], hn[-1]), dim=1))\n",
    "        return self.sigmoid(x).view(-1)"
   ]
  },
  {
   "cell_type": "code",
   "execution_count": 18,
   "id": "9b19f917",
   "metadata": {
    "execution": {
     "iopub.execute_input": "2025-05-21T08:08:24.050359Z",
     "iopub.status.busy": "2025-05-21T08:08:24.050104Z",
     "iopub.status.idle": "2025-05-21T08:08:24.059777Z",
     "shell.execute_reply": "2025-05-21T08:08:24.059076Z"
    },
    "papermill": {
     "duration": 0.017014,
     "end_time": "2025-05-21T08:08:24.061091",
     "exception": false,
     "start_time": "2025-05-21T08:08:24.044077",
     "status": "completed"
    },
    "tags": []
   },
   "outputs": [],
   "source": [
    "# Bayesian Optimization Search Space for BiLSTM\n",
    "search_space_bilstm = [\n",
    "    Integer(32, 256, name='embed_dim'),\n",
    "    Integer(32, 256, name='hidden_dim'),\n",
    "    Integer(1, 3, name='num_layers'),\n",
    "    Real(0.1, 0.5, name='dropout')\n",
    "]\n",
    "\n",
    "@use_named_args(search_space_bilstm)\n",
    "def objective_bilstm(embed_dim, hidden_dim, num_layers, dropout):\n",
    "    model = BiLSTMClassifier(\n",
    "        int(embed_dim),\n",
    "        int(hidden_dim),\n",
    "        int(num_layers),\n",
    "        float(dropout)\n",
    "    ).to(device)\n",
    "    optimizer = optim.Adam(model.parameters(), lr=0.001)\n",
    "    criterion = nn.BCELoss()\n",
    "    \n",
    "    for epoch in range(3):\n",
    "        for x_batch, y_batch in train_loader:\n",
    "            x_batch, y_batch = x_batch.to(device), y_batch.to(device)\n",
    "            optimizer.zero_grad()\n",
    "            y_pred = model(x_batch).view(-1)\n",
    "            loss = criterion(y_pred, y_batch.float())\n",
    "            loss.backward()\n",
    "            optimizer.step()\n",
    "    \n",
    "    total_loss = 0\n",
    "    with torch.no_grad():\n",
    "        for x_batch, y_batch in test_loader:\n",
    "            x_batch, y_batch = x_batch.to(device), y_batch.to(device)\n",
    "            y_pred = model(x_batch).view(-1)\n",
    "            loss = criterion(y_pred, y_batch.float())\n",
    "            total_loss += loss.item()\n",
    "    \n",
    "    return total_loss / len(test_loader)"
   ]
  },
  {
   "cell_type": "code",
   "execution_count": 19,
   "id": "0378b1cd",
   "metadata": {
    "execution": {
     "iopub.execute_input": "2025-05-21T08:08:24.072923Z",
     "iopub.status.busy": "2025-05-21T08:08:24.072648Z",
     "iopub.status.idle": "2025-05-21T08:56:37.390728Z",
     "shell.execute_reply": "2025-05-21T08:56:37.389769Z"
    },
    "papermill": {
     "duration": 2893.332454,
     "end_time": "2025-05-21T08:56:37.398980",
     "exception": false,
     "start_time": "2025-05-21T08:08:24.066526",
     "status": "completed"
    },
    "tags": []
   },
   "outputs": [
    {
     "name": "stdout",
     "output_type": "stream",
     "text": [
      "Best BiLSTM Parameters: embed_dim=256, hidden_dim=126, num_layers=3, dropout=0.14442561928899436\n"
     ]
    }
   ],
   "source": [
    "# Run Bayesian Optimization for BiLSTM\n",
    "start_time_opt_bilstm = time.time()\n",
    "result_bilstm = gp_minimize(objective_bilstm, search_space_bilstm, n_calls=30, random_state=42)\n",
    "print(f\"Best BiLSTM Parameters: embed_dim={result_bilstm.x[0]}, hidden_dim={result_bilstm.x[1]}, num_layers={result_bilstm.x[2]}, dropout={result_bilstm.x[3]}\")\n",
    "opt_time_bilstm = time.time() - start_time_opt_bilstm"
   ]
  },
  {
   "cell_type": "code",
   "execution_count": 20,
   "id": "74e10117",
   "metadata": {
    "execution": {
     "iopub.execute_input": "2025-05-21T08:56:37.411039Z",
     "iopub.status.busy": "2025-05-21T08:56:37.410749Z",
     "iopub.status.idle": "2025-05-21T08:58:36.566604Z",
     "shell.execute_reply": "2025-05-21T08:58:36.565813Z"
    },
    "papermill": {
     "duration": 119.16397,
     "end_time": "2025-05-21T08:58:36.568338",
     "exception": false,
     "start_time": "2025-05-21T08:56:37.404368",
     "status": "completed"
    },
    "tags": []
   },
   "outputs": [],
   "source": [
    "# Train final BiLSTM model\n",
    "start_time_train_bilstm = time.time()\n",
    "best_bilstm = BiLSTMClassifier(\n",
    "    int(result_bilstm.x[0]),\n",
    "    int(result_bilstm.x[1]),\n",
    "    int(result_bilstm.x[2]),\n",
    "    float(result_bilstm.x[3])\n",
    ").to(device)\n",
    "\n",
    "optimizer = optim.Adam(best_bilstm.parameters(), lr=0.001)\n",
    "\n",
    "for epoch in range(5):\n",
    "    for x_batch, y_batch in train_loader:\n",
    "        x_batch, y_batch = x_batch.to(device), y_batch.to(device)\n",
    "        optimizer.zero_grad()\n",
    "        y_pred = best_bilstm(x_batch).view(-1)\n",
    "        loss = criterion(y_pred, y_batch.float())\n",
    "        loss.backward()\n",
    "        optimizer.step()\n",
    "train_time_bilstm = time.time() - start_time_train_bilstm"
   ]
  },
  {
   "cell_type": "code",
   "execution_count": 21,
   "id": "80337980",
   "metadata": {
    "execution": {
     "iopub.execute_input": "2025-05-21T08:58:36.580364Z",
     "iopub.status.busy": "2025-05-21T08:58:36.580076Z",
     "iopub.status.idle": "2025-05-21T08:58:36.932385Z",
     "shell.execute_reply": "2025-05-21T08:58:36.931399Z"
    },
    "papermill": {
     "duration": 0.359795,
     "end_time": "2025-05-21T08:58:36.934033",
     "exception": false,
     "start_time": "2025-05-21T08:58:36.574238",
     "status": "completed"
    },
    "tags": []
   },
   "outputs": [],
   "source": [
    "torch.save(best_bilstm.state_dict(), 'bilstm_model.pth')"
   ]
  },
  {
   "cell_type": "code",
   "execution_count": 22,
   "id": "7dc7d85b",
   "metadata": {
    "execution": {
     "iopub.execute_input": "2025-05-21T08:58:36.947150Z",
     "iopub.status.busy": "2025-05-21T08:58:36.946859Z",
     "iopub.status.idle": "2025-05-21T08:58:40.296183Z",
     "shell.execute_reply": "2025-05-21T08:58:40.295328Z"
    },
    "papermill": {
     "duration": 3.35804,
     "end_time": "2025-05-21T08:58:40.297712",
     "exception": false,
     "start_time": "2025-05-21T08:58:36.939672",
     "status": "completed"
    },
    "tags": []
   },
   "outputs": [
    {
     "name": "stdout",
     "output_type": "stream",
     "text": [
      "BiLSTM Model Accuracy: 0.998218262806236\n",
      "BiLSTM Hyperparameter Optimization Time: 2893.31 seconds\n",
      "BiLSTM Training Time: 119.15 seconds\n",
      "BiLSTM Evaluation Time: 3.30 seconds\n",
      "Total Execution Time: 3015.77 seconds\n",
      "              precision    recall  f1-score   support\n",
      "\n",
      "         0.0       1.00      1.00      1.00      5856\n",
      "         1.0       1.00      1.00      1.00      5369\n",
      "\n",
      "    accuracy                           1.00     11225\n",
      "   macro avg       1.00      1.00      1.00     11225\n",
      "weighted avg       1.00      1.00      1.00     11225\n",
      "\n",
      "BiLSTM optimization completed.\n"
     ]
    }
   ],
   "source": [
    "# Model Testing\n",
    "start_time_eval_bilstm = time.time()\n",
    "y_true = []\n",
    "y_pred = []\n",
    "with torch.no_grad():\n",
    "    for x_batch, y_batch in test_loader:\n",
    "        x_batch, y_batch = x_batch.to(device), y_batch.to(device)\n",
    "        outputs = best_bilstm(x_batch).view(-1)\n",
    "        predictions = (outputs > 0.5).float()\n",
    "        y_true.extend(y_batch.cpu().numpy())\n",
    "        y_pred.extend(predictions.cpu().numpy())\n",
    "\n",
    "eval_time_bilstm = time.time() - start_time_eval_bilstm\n",
    "total_time_bilstm = opt_time_bilstm + train_time_bilstm + eval_time_bilstm\n",
    "accuracy = accuracy_score(y_true, y_pred)\n",
    "report = classification_report(y_true, y_pred)\n",
    "# Print Results\n",
    "print(f\"BiLSTM Model Accuracy: {accuracy}\")\n",
    "print(f\"BiLSTM Hyperparameter Optimization Time: {opt_time_bilstm:.2f} seconds\")\n",
    "print(f\"BiLSTM Training Time: {train_time_bilstm:.2f} seconds\")\n",
    "print(f\"BiLSTM Evaluation Time: {eval_time_bilstm:.2f} seconds\")\n",
    "print(f\"Total Execution Time: {total_time_bilstm:.2f} seconds\")\n",
    "print(classification_report(y_true, y_pred))\n",
    "print(\"BiLSTM optimization completed.\")"
   ]
  },
  {
   "cell_type": "markdown",
   "id": "af8b8b3f",
   "metadata": {
    "papermill": {
     "duration": 0.005918,
     "end_time": "2025-05-21T08:58:40.309956",
     "exception": false,
     "start_time": "2025-05-21T08:58:40.304038",
     "status": "completed"
    },
    "tags": []
   },
   "source": [
    "# CNN"
   ]
  },
  {
   "cell_type": "code",
   "execution_count": 23,
   "id": "6e59220a",
   "metadata": {
    "execution": {
     "iopub.execute_input": "2025-05-21T08:58:40.322402Z",
     "iopub.status.busy": "2025-05-21T08:58:40.322099Z",
     "iopub.status.idle": "2025-05-21T08:58:40.328067Z",
     "shell.execute_reply": "2025-05-21T08:58:40.327149Z"
    },
    "papermill": {
     "duration": 0.013583,
     "end_time": "2025-05-21T08:58:40.329355",
     "exception": false,
     "start_time": "2025-05-21T08:58:40.315772",
     "status": "completed"
    },
    "tags": []
   },
   "outputs": [],
   "source": [
    "# Define PyTorch CNN Model\n",
    "class CNNClassifier(nn.Module):\n",
    "    def __init__(self, embed_dim, num_filters, kernel_size, dropout):\n",
    "        super(CNNClassifier, self).__init__()\n",
    "        self.embedding = nn.Embedding(num_embeddings=5000, embedding_dim=embed_dim)\n",
    "        self.conv = nn.Conv1d(in_channels=embed_dim, out_channels=num_filters, kernel_size=kernel_size, padding=kernel_size // 2)\n",
    "        self.relu = nn.ReLU()\n",
    "        self.pool = nn.MaxPool1d(kernel_size=2)\n",
    "        self.dropout = nn.Dropout(dropout)\n",
    "        self.fc = nn.Linear(num_filters, 1)\n",
    "        self.sigmoid = nn.Sigmoid()\n",
    "    \n",
    "    def forward(self, x):\n",
    "        x = self.embedding(x).permute(0, 2, 1)\n",
    "        x = self.conv(x)\n",
    "        x = self.relu(x)\n",
    "        x = self.pool(x)\n",
    "        x = torch.mean(x, dim=2)\n",
    "        x = self.dropout(x)\n",
    "        x = self.fc(x)\n",
    "        return self.sigmoid(x).view(-1)"
   ]
  },
  {
   "cell_type": "code",
   "execution_count": 24,
   "id": "f4d18d9e",
   "metadata": {
    "execution": {
     "iopub.execute_input": "2025-05-21T08:58:40.344408Z",
     "iopub.status.busy": "2025-05-21T08:58:40.343977Z",
     "iopub.status.idle": "2025-05-21T08:58:40.357735Z",
     "shell.execute_reply": "2025-05-21T08:58:40.356753Z"
    },
    "papermill": {
     "duration": 0.023251,
     "end_time": "2025-05-21T08:58:40.359160",
     "exception": false,
     "start_time": "2025-05-21T08:58:40.335909",
     "status": "completed"
    },
    "tags": []
   },
   "outputs": [],
   "source": [
    "# Bayesian Optimization Search Space for CNN\n",
    "search_space_cnn = [\n",
    "    Integer(32, 256, name='embed_dim'),\n",
    "    Integer(32, 256, name='num_filters'),\n",
    "    Integer(2, 5, name='kernel_size'),\n",
    "    Real(0.1, 0.5, name='dropout')\n",
    "]\n",
    "\n",
    "@use_named_args(search_space_cnn)\n",
    "def objective_cnn(embed_dim, num_filters, kernel_size, dropout):\n",
    "    model = CNNClassifier(\n",
    "        int(embed_dim),\n",
    "        int(num_filters),\n",
    "        int(kernel_size),\n",
    "        float(dropout)\n",
    "    ).to(device)\n",
    "    optimizer = optim.Adam(model.parameters(), lr=0.001)\n",
    "    criterion = nn.BCELoss()\n",
    "    \n",
    "    for epoch in range(3):\n",
    "        for x_batch, y_batch in train_loader:\n",
    "            x_batch, y_batch = x_batch.to(device), y_batch.to(device)\n",
    "            optimizer.zero_grad()\n",
    "            y_pred = model(x_batch).view(-1)\n",
    "            loss = criterion(y_pred, y_batch.float())\n",
    "            loss.backward()\n",
    "            optimizer.step()\n",
    "    \n",
    "    total_loss = 0\n",
    "    with torch.no_grad():\n",
    "        for x_batch, y_batch in test_loader:\n",
    "            x_batch, y_batch = x_batch.to(device), y_batch.to(device)\n",
    "            y_pred = model(x_batch).view(-1)\n",
    "            loss = criterion(y_pred, y_batch.float())\n",
    "            total_loss += loss.item()\n",
    "    \n",
    "    return total_loss / len(test_loader)"
   ]
  },
  {
   "cell_type": "code",
   "execution_count": 25,
   "id": "91e6f504",
   "metadata": {
    "execution": {
     "iopub.execute_input": "2025-05-21T08:58:40.382787Z",
     "iopub.status.busy": "2025-05-21T08:58:40.382250Z",
     "iopub.status.idle": "2025-05-21T08:59:59.391662Z",
     "shell.execute_reply": "2025-05-21T08:59:59.390530Z"
    },
    "papermill": {
     "duration": 79.027113,
     "end_time": "2025-05-21T08:59:59.398923",
     "exception": false,
     "start_time": "2025-05-21T08:58:40.371810",
     "status": "completed"
    },
    "tags": []
   },
   "outputs": [
    {
     "name": "stdout",
     "output_type": "stream",
     "text": [
      "Best CNN Parameters: embed_dim=35, num_filters=243, kernel_size=4, dropout=0.2541666010159665\n"
     ]
    }
   ],
   "source": [
    "# Run Bayesian Optimization for CNN\n",
    "start_time_opt_cnn = time.time()\n",
    "result_cnn = gp_minimize(objective_cnn, search_space_cnn, n_calls=10, random_state=42)\n",
    "print(f\"Best CNN Parameters: embed_dim={result_cnn.x[0]}, num_filters={result_cnn.x[1]}, kernel_size={result_cnn.x[2]}, dropout={result_cnn.x[3]}\")\n",
    "opt_time_cnn = time.time() - start_time_opt_cnn"
   ]
  },
  {
   "cell_type": "code",
   "execution_count": 26,
   "id": "d1a89832",
   "metadata": {
    "execution": {
     "iopub.execute_input": "2025-05-21T08:59:59.412003Z",
     "iopub.status.busy": "2025-05-21T08:59:59.411718Z",
     "iopub.status.idle": "2025-05-21T09:00:11.078435Z",
     "shell.execute_reply": "2025-05-21T09:00:11.077663Z"
    },
    "papermill": {
     "duration": 11.675041,
     "end_time": "2025-05-21T09:00:11.080065",
     "exception": false,
     "start_time": "2025-05-21T08:59:59.405024",
     "status": "completed"
    },
    "tags": []
   },
   "outputs": [],
   "source": [
    "# Measure training time\n",
    "start_time_train_cnn = time.time()\n",
    "\n",
    "# Train final CNN model\n",
    "best_cnn = CNNClassifier(\n",
    "    int(result_cnn.x[0]),\n",
    "    int(result_cnn.x[1]),\n",
    "    int(result_cnn.x[2]),\n",
    "    float(result_cnn.x[3])\n",
    ").to(device)\n",
    "\n",
    "optimizer = optim.Adam(best_cnn.parameters(), lr=0.001)\n",
    "criterion = nn.BCELoss()\n",
    "\n",
    "for epoch in range(5):\n",
    "    for x_batch, y_batch in train_loader:\n",
    "        x_batch, y_batch = x_batch.to(device), y_batch.to(device)\n",
    "        optimizer.zero_grad()\n",
    "        y_pred = best_cnn(x_batch).view(-1)\n",
    "        loss = criterion(y_pred, y_batch.float())\n",
    "        loss.backward()\n",
    "        optimizer.step()\n",
    "train_time_cnn = time.time() - start_time_train_cnn"
   ]
  },
  {
   "cell_type": "code",
   "execution_count": 27,
   "id": "bb4b6a30",
   "metadata": {
    "execution": {
     "iopub.execute_input": "2025-05-21T09:00:11.092129Z",
     "iopub.status.busy": "2025-05-21T09:00:11.091859Z",
     "iopub.status.idle": "2025-05-21T09:00:11.097055Z",
     "shell.execute_reply": "2025-05-21T09:00:11.096415Z"
    },
    "papermill": {
     "duration": 0.012389,
     "end_time": "2025-05-21T09:00:11.098203",
     "exception": false,
     "start_time": "2025-05-21T09:00:11.085814",
     "status": "completed"
    },
    "tags": []
   },
   "outputs": [],
   "source": [
    "torch.save(best_cnn.state_dict(), 'cnn_model.pth')"
   ]
  },
  {
   "cell_type": "code",
   "execution_count": 28,
   "id": "10aa71e5",
   "metadata": {
    "execution": {
     "iopub.execute_input": "2025-05-21T09:00:11.110137Z",
     "iopub.status.busy": "2025-05-21T09:00:11.109896Z",
     "iopub.status.idle": "2025-05-21T09:00:11.460917Z",
     "shell.execute_reply": "2025-05-21T09:00:11.459821Z"
    },
    "papermill": {
     "duration": 0.358142,
     "end_time": "2025-05-21T09:00:11.462211",
     "exception": false,
     "start_time": "2025-05-21T09:00:11.104069",
     "status": "completed"
    },
    "tags": []
   },
   "outputs": [
    {
     "name": "stdout",
     "output_type": "stream",
     "text": [
      "CNN Model Accuracy: 0.9933184855233853\n",
      "CNN Hyperparameter Optimization Time: 79.00 seconds\n",
      "CNN Training Time: 11.66 seconds\n",
      "CNN Evaluation Time: 0.31 seconds\n",
      "Total Execution Time: 90.98 seconds\n",
      "              precision    recall  f1-score   support\n",
      "\n",
      "         0.0       0.99      1.00      0.99      5856\n",
      "         1.0       0.99      0.99      0.99      5369\n",
      "\n",
      "    accuracy                           0.99     11225\n",
      "   macro avg       0.99      0.99      0.99     11225\n",
      "weighted avg       0.99      0.99      0.99     11225\n",
      "\n",
      "CNN optimization completed.\n"
     ]
    }
   ],
   "source": [
    "# Model Testing\n",
    "start_time_eval_cnn = time.time()\n",
    "y_true = []\n",
    "y_pred = []\n",
    "\n",
    "with torch.no_grad():\n",
    "    for x_batch, y_batch in test_loader:\n",
    "        x_batch, y_batch = x_batch.to(device), y_batch.to(device)\n",
    "        outputs = best_cnn(x_batch).view(-1)\n",
    "        predictions = (outputs > 0.5).float()\n",
    "        y_true.extend(y_batch.cpu().numpy())\n",
    "        y_pred.extend(predictions.cpu().numpy())\n",
    "eval_time_cnn = time.time() - start_time_eval_cnn\n",
    "total_time_cnn = opt_time_cnn + train_time_cnn + eval_time_cnn\n",
    "accuracy = accuracy_score(y_true, y_pred)\n",
    "report = classification_report(y_true, y_pred, output_dict=True)\n",
    "# Print Results\n",
    "print(f\"CNN Model Accuracy: {accuracy}\")\n",
    "print(f\"CNN Hyperparameter Optimization Time: {opt_time_cnn:.2f} seconds\")\n",
    "print(f\"CNN Training Time: {train_time_cnn:.2f} seconds\")\n",
    "print(f\"CNN Evaluation Time: {eval_time_cnn:.2f} seconds\")\n",
    "print(f\"Total Execution Time: {total_time_cnn:.2f} seconds\")\n",
    "print(classification_report(y_true, y_pred))\n",
    "print(\"CNN optimization completed.\")"
   ]
  }
 ],
 "metadata": {
  "kaggle": {
   "accelerator": "gpu",
   "dataSources": [
    {
     "datasetId": 72366,
     "sourceId": 159129,
     "sourceType": "datasetVersion"
    },
    {
     "datasetId": 4831777,
     "sourceId": 8165591,
     "sourceType": "datasetVersion"
    }
   ],
   "dockerImageVersionId": 30840,
   "isGpuEnabled": true,
   "isInternetEnabled": true,
   "language": "python",
   "sourceType": "notebook"
  },
  "kernelspec": {
   "display_name": "Python 3",
   "language": "python",
   "name": "python3"
  },
  "language_info": {
   "codemirror_mode": {
    "name": "ipython",
    "version": 3
   },
   "file_extension": ".py",
   "mimetype": "text/x-python",
   "name": "python",
   "nbconvert_exporter": "python",
   "pygments_lexer": "ipython3",
   "version": "3.10.12"
  },
  "papermill": {
   "default_parameters": {},
   "duration": 3769.565431,
   "end_time": "2025-05-21T09:00:14.995208",
   "environment_variables": {},
   "exception": null,
   "input_path": "__notebook__.ipynb",
   "output_path": "__notebook__.ipynb",
   "parameters": {},
   "start_time": "2025-05-21T07:57:25.429777",
   "version": "2.6.0"
  }
 },
 "nbformat": 4,
 "nbformat_minor": 5
}
