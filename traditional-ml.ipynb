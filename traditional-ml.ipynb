{
 "cells": [
  {
   "cell_type": "markdown",
   "id": "bb46d165",
   "metadata": {
    "papermill": {
     "duration": 0.004217,
     "end_time": "2025-05-27T00:30:16.058383",
     "exception": false,
     "start_time": "2025-05-27T00:30:16.054166",
     "status": "completed"
    },
    "tags": []
   },
   "source": [
    "# Data Import"
   ]
  },
  {
   "cell_type": "code",
   "execution_count": 1,
   "id": "2b17cc67",
   "metadata": {
    "_cell_guid": "b1076dfc-b9ad-4769-8c92-a6c4dae69d19",
    "_uuid": "8f2839f25d086af736a60e9eeb907d3b93b6e0e5",
    "execution": {
     "iopub.execute_input": "2025-05-27T00:30:16.067285Z",
     "iopub.status.busy": "2025-05-27T00:30:16.066930Z",
     "iopub.status.idle": "2025-05-27T00:30:18.715327Z",
     "shell.execute_reply": "2025-05-27T00:30:18.714412Z"
    },
    "papermill": {
     "duration": 2.65469,
     "end_time": "2025-05-27T00:30:18.717043",
     "exception": false,
     "start_time": "2025-05-27T00:30:16.062353",
     "status": "completed"
    },
    "tags": []
   },
   "outputs": [],
   "source": [
    "import pandas as pd\n",
    "import numpy as np\n",
    "import seaborn as sns\n",
    "import matplotlib.pyplot as plt\n",
    "from sklearn.model_selection import train_test_split\n",
    "from sklearn.metrics import accuracy_score, classification_report\n",
    "import re\n",
    "import string\n",
    "from sklearn.feature_extraction.text import TfidfVectorizer\n",
    "from sklearn.linear_model import LogisticRegression\n",
    "from sklearn.ensemble import RandomForestClassifier\n",
    "from sklearn.svm import SVC\n",
    "from sklearn.naive_bayes import MultinomialNB\n",
    "from skopt import BayesSearchCV\n",
    "import time\n",
    "import joblib"
   ]
  },
  {
   "cell_type": "markdown",
   "id": "8e4b558d",
   "metadata": {
    "papermill": {
     "duration": 0.003464,
     "end_time": "2025-05-27T00:30:18.724681",
     "exception": false,
     "start_time": "2025-05-27T00:30:18.721217",
     "status": "completed"
    },
    "tags": []
   },
   "source": [
    "# Data Setting"
   ]
  },
  {
   "cell_type": "code",
   "execution_count": 2,
   "id": "daab7bbc",
   "metadata": {
    "execution": {
     "iopub.execute_input": "2025-05-27T00:30:18.732967Z",
     "iopub.status.busy": "2025-05-27T00:30:18.732567Z",
     "iopub.status.idle": "2025-05-27T00:30:18.736061Z",
     "shell.execute_reply": "2025-05-27T00:30:18.735397Z"
    },
    "papermill": {
     "duration": 0.008915,
     "end_time": "2025-05-27T00:30:18.737258",
     "exception": false,
     "start_time": "2025-05-27T00:30:18.728343",
     "status": "completed"
    },
    "tags": []
   },
   "outputs": [],
   "source": [
    "# Log current status\n",
    "def log_status(message):\n",
    "    print(f\"[{time.strftime('%Y-%m-%d %H:%M:%S')}] {message}\")"
   ]
  },
  {
   "cell_type": "code",
   "execution_count": 3,
   "id": "415e460e",
   "metadata": {
    "execution": {
     "iopub.execute_input": "2025-05-27T00:30:18.744963Z",
     "iopub.status.busy": "2025-05-27T00:30:18.744741Z",
     "iopub.status.idle": "2025-05-27T00:30:21.220566Z",
     "shell.execute_reply": "2025-05-27T00:30:21.219700Z"
    },
    "papermill": {
     "duration": 2.481459,
     "end_time": "2025-05-27T00:30:21.222365",
     "exception": false,
     "start_time": "2025-05-27T00:30:18.740906",
     "status": "completed"
    },
    "tags": []
   },
   "outputs": [
    {
     "name": "stdout",
     "output_type": "stream",
     "text": [
      "[2025-05-27 00:30:18] Loading datasets...\n"
     ]
    }
   ],
   "source": [
    "# Load the datasets\n",
    "log_status(\"Loading datasets...\")\n",
    "df_fake = pd.read_csv(\"/kaggle/input/fake-and-real-news-dataset/Fake.csv\")\n",
    "df_true = pd.read_csv(\"/kaggle/input/fake-and-real-news-dataset/True.csv\")"
   ]
  },
  {
   "cell_type": "code",
   "execution_count": 4,
   "id": "9dca48ca",
   "metadata": {
    "execution": {
     "iopub.execute_input": "2025-05-27T00:30:21.231044Z",
     "iopub.status.busy": "2025-05-27T00:30:21.230749Z",
     "iopub.status.idle": "2025-05-27T00:30:21.261359Z",
     "shell.execute_reply": "2025-05-27T00:30:21.260619Z"
    },
    "papermill": {
     "duration": 0.036411,
     "end_time": "2025-05-27T00:30:21.262838",
     "exception": false,
     "start_time": "2025-05-27T00:30:21.226427",
     "status": "completed"
    },
    "tags": []
   },
   "outputs": [],
   "source": [
    "# Assign class labels\n",
    "df_fake[\"class\"] = 0\n",
    "df_true[\"class\"] = 1\n",
    "\n",
    "# Combine the datasets\n",
    "df = pd.concat([df_fake, df_true], axis=0)\n",
    "df = df.sample(frac=1).reset_index(drop=True)"
   ]
  },
  {
   "cell_type": "code",
   "execution_count": 5,
   "id": "2821756c",
   "metadata": {
    "execution": {
     "iopub.execute_input": "2025-05-27T00:30:21.271406Z",
     "iopub.status.busy": "2025-05-27T00:30:21.271162Z",
     "iopub.status.idle": "2025-05-27T00:30:41.350080Z",
     "shell.execute_reply": "2025-05-27T00:30:41.349215Z"
    },
    "papermill": {
     "duration": 20.084975,
     "end_time": "2025-05-27T00:30:41.351756",
     "exception": false,
     "start_time": "2025-05-27T00:30:21.266781",
     "status": "completed"
    },
    "tags": []
   },
   "outputs": [
    {
     "name": "stdout",
     "output_type": "stream",
     "text": [
      "[2025-05-27 00:30:21] Preprocessing text data...\n"
     ]
    }
   ],
   "source": [
    "# Text preprocessing function\n",
    "def clean_text(text):\n",
    "    text = text.lower()\n",
    "    text = re.sub('\\[.*?\\]', '', text)\n",
    "    text = re.sub(\"\\\\W\", \" \", text)\n",
    "    text = re.sub('https?://\\S+|www\\.\\S+', '', text)\n",
    "    text = re.sub('<.*?>+', '', text)\n",
    "    text = re.sub('[%s]' % re.escape(string.punctuation), '', text)\n",
    "    text = re.sub('\\n', '', text)\n",
    "    text = re.sub('\\w*\\d\\w*', '', text)\n",
    "    return text\n",
    "\n",
    "log_status(\"Preprocessing text data...\")\n",
    "df[\"text\"] = df[\"text\"].apply(clean_text)"
   ]
  },
  {
   "cell_type": "code",
   "execution_count": 6,
   "id": "e73bea36",
   "metadata": {
    "execution": {
     "iopub.execute_input": "2025-05-27T00:30:41.360720Z",
     "iopub.status.busy": "2025-05-27T00:30:41.360488Z",
     "iopub.status.idle": "2025-05-27T00:30:41.369940Z",
     "shell.execute_reply": "2025-05-27T00:30:41.369230Z"
    },
    "papermill": {
     "duration": 0.01521,
     "end_time": "2025-05-27T00:30:41.371307",
     "exception": false,
     "start_time": "2025-05-27T00:30:41.356097",
     "status": "completed"
    },
    "tags": []
   },
   "outputs": [],
   "source": [
    "# Split the data\n",
    "x = df[\"text\"]\n",
    "y = df[\"class\"]\n",
    "x_train, x_test, y_train, y_test = train_test_split(x, y, test_size=0.25, random_state=42)"
   ]
  },
  {
   "cell_type": "code",
   "execution_count": 7,
   "id": "57aa981f",
   "metadata": {
    "execution": {
     "iopub.execute_input": "2025-05-27T00:30:41.379743Z",
     "iopub.status.busy": "2025-05-27T00:30:41.379534Z",
     "iopub.status.idle": "2025-05-27T00:30:53.651407Z",
     "shell.execute_reply": "2025-05-27T00:30:53.650672Z"
    },
    "papermill": {
     "duration": 12.27773,
     "end_time": "2025-05-27T00:30:53.653003",
     "exception": false,
     "start_time": "2025-05-27T00:30:41.375273",
     "status": "completed"
    },
    "tags": []
   },
   "outputs": [],
   "source": [
    "# Vectorize the text\n",
    "vectorizer = TfidfVectorizer()\n",
    "xv_train = vectorizer.fit_transform(x_train)\n",
    "xv_test = vectorizer.transform(x_test)"
   ]
  },
  {
   "cell_type": "code",
   "execution_count": 8,
   "id": "a80b38da",
   "metadata": {
    "execution": {
     "iopub.execute_input": "2025-05-27T00:30:53.661967Z",
     "iopub.status.busy": "2025-05-27T00:30:53.661713Z",
     "iopub.status.idle": "2025-05-27T00:30:54.138361Z",
     "shell.execute_reply": "2025-05-27T00:30:54.137442Z"
    },
    "papermill": {
     "duration": 0.482508,
     "end_time": "2025-05-27T00:30:54.139840",
     "exception": false,
     "start_time": "2025-05-27T00:30:53.657332",
     "status": "completed"
    },
    "tags": []
   },
   "outputs": [
    {
     "data": {
      "text/plain": [
       "['vectorizer.pkl']"
      ]
     },
     "execution_count": 8,
     "metadata": {},
     "output_type": "execute_result"
    }
   ],
   "source": [
    "# Save vectorizer\n",
    "joblib.dump(vectorizer, 'vectorizer.pkl')"
   ]
  },
  {
   "cell_type": "markdown",
   "id": "441c83b7",
   "metadata": {
    "papermill": {
     "duration": 0.004616,
     "end_time": "2025-05-27T00:30:54.150691",
     "exception": false,
     "start_time": "2025-05-27T00:30:54.146075",
     "status": "completed"
    },
    "tags": []
   },
   "source": [
    "# Logistic Regression"
   ]
  },
  {
   "cell_type": "code",
   "execution_count": 9,
   "id": "9c5fc450",
   "metadata": {
    "execution": {
     "iopub.execute_input": "2025-05-27T00:30:54.159822Z",
     "iopub.status.busy": "2025-05-27T00:30:54.159539Z",
     "iopub.status.idle": "2025-05-27T00:36:21.138346Z",
     "shell.execute_reply": "2025-05-27T00:36:21.137202Z"
    },
    "papermill": {
     "duration": 326.985504,
     "end_time": "2025-05-27T00:36:21.140048",
     "exception": false,
     "start_time": "2025-05-27T00:30:54.154544",
     "status": "completed"
    },
    "tags": []
   },
   "outputs": [
    {
     "name": "stdout",
     "output_type": "stream",
     "text": [
      "[2025-05-27 00:30:54] Optimizing Logistic Regression with Bayesian Optimization...\n",
      "Best hyperparameters for Logistic Regression:\n",
      "OrderedDict([('C', 235769.01450652358), ('solver', 'liblinear')])\n"
     ]
    },
    {
     "data": {
      "text/plain": [
       "['logistic_regression.pkl']"
      ]
     },
     "execution_count": 9,
     "metadata": {},
     "output_type": "execute_result"
    }
   ],
   "source": [
    "# Bayesian Optimization for Logistic Regression\n",
    "start_time_total = time.time()\n",
    "start_time_opt = time.time()\n",
    "log_status(\"Optimizing Logistic Regression with Bayesian Optimization...\")\n",
    "lr_search = BayesSearchCV(\n",
    "    LogisticRegression(max_iter=1000),\n",
    "    {\n",
    "        'C': (1e-6, 1e+6, 'log-uniform'),\n",
    "        'solver': ['liblinear', 'lbfgs']\n",
    "    },\n",
    "    n_iter=32, random_state=42, cv=3\n",
    ")\n",
    "lr_search.fit(xv_train, y_train)\n",
    "print(\"Best hyperparameters for Logistic Regression:\")\n",
    "print(lr_search.best_params_)\n",
    "opt_time = time.time() - start_time_opt\n",
    "start_time_train = time.time()\n",
    "lr = lr_search.best_estimator_\n",
    "lr.fit(xv_train, y_train)\n",
    "train_time = time.time() - start_time_train\n",
    "start_time_pred = time.time()\n",
    "pred_lr = lr.predict(xv_test)\n",
    "pred_time = time.time() - start_time_pred\n",
    "total_time = time.time() - start_time_total\n",
    "joblib.dump(lr, 'logistic_regression.pkl')"
   ]
  },
  {
   "cell_type": "code",
   "execution_count": 10,
   "id": "d3b48e19",
   "metadata": {
    "execution": {
     "iopub.execute_input": "2025-05-27T00:36:21.149936Z",
     "iopub.status.busy": "2025-05-27T00:36:21.149693Z",
     "iopub.status.idle": "2025-05-27T00:36:21.171223Z",
     "shell.execute_reply": "2025-05-27T00:36:21.170107Z"
    },
    "papermill": {
     "duration": 0.028029,
     "end_time": "2025-05-27T00:36:21.172860",
     "exception": false,
     "start_time": "2025-05-27T00:36:21.144831",
     "status": "completed"
    },
    "tags": []
   },
   "outputs": [
    {
     "name": "stdout",
     "output_type": "stream",
     "text": [
      "Logistic Regression Accuracy: 0.9949220489977728\n",
      "Logistic Regression Hyperparameter Optimization Time: 321.6311 seconds\n",
      "Logistic Regression Training Time: 5.3304 seconds\n",
      "Logistic Regression Prediction Time: 0.0075 seconds\n",
      "Total Execution Time: 326.9692 seconds\n",
      "              precision    recall  f1-score   support\n",
      "\n",
      "           0       0.99      1.00      1.00      5883\n",
      "           1       1.00      0.99      0.99      5342\n",
      "\n",
      "    accuracy                           0.99     11225\n",
      "   macro avg       0.99      0.99      0.99     11225\n",
      "weighted avg       0.99      0.99      0.99     11225\n",
      "\n",
      "[2025-05-27 00:36:21] Logistic Regression optimization completed.\n"
     ]
    }
   ],
   "source": [
    "print(\"Logistic Regression Accuracy:\", accuracy_score(y_test, pred_lr))\n",
    "print(\"Logistic Regression Hyperparameter Optimization Time: {:.4f} seconds\".format(opt_time))\n",
    "print(\"Logistic Regression Training Time: {:.4f} seconds\".format(train_time))\n",
    "print(\"Logistic Regression Prediction Time: {:.4f} seconds\".format(pred_time))\n",
    "print(\"Total Execution Time: {:.4f} seconds\".format(total_time))\n",
    "print(classification_report(y_test, pred_lr))\n",
    "log_status(\"Logistic Regression optimization completed.\")"
   ]
  },
  {
   "cell_type": "markdown",
   "id": "e9b6fb6e",
   "metadata": {
    "papermill": {
     "duration": 0.003932,
     "end_time": "2025-05-27T00:36:21.181929",
     "exception": false,
     "start_time": "2025-05-27T00:36:21.177997",
     "status": "completed"
    },
    "tags": []
   },
   "source": [
    "# Random Forest"
   ]
  },
  {
   "cell_type": "code",
   "execution_count": 11,
   "id": "7150daaf",
   "metadata": {
    "execution": {
     "iopub.execute_input": "2025-05-27T00:36:21.191539Z",
     "iopub.status.busy": "2025-05-27T00:36:21.191154Z",
     "iopub.status.idle": "2025-05-27T00:42:02.875929Z",
     "shell.execute_reply": "2025-05-27T00:42:02.875057Z"
    },
    "papermill": {
     "duration": 341.691164,
     "end_time": "2025-05-27T00:42:02.877368",
     "exception": false,
     "start_time": "2025-05-27T00:36:21.186204",
     "status": "completed"
    },
    "tags": []
   },
   "outputs": [
    {
     "name": "stdout",
     "output_type": "stream",
     "text": [
      "[2025-05-27 00:36:21] Optimizing Random Forest with Bayesian Optimization...\n",
      "Best hyperparameters for Random Forest:\n",
      "RandomForestClassifier(max_depth=16, min_samples_leaf=3, min_samples_split=13,\n",
      "                       n_estimators=163, random_state=42)\n"
     ]
    },
    {
     "data": {
      "text/plain": [
       "['random_forest.pkl']"
      ]
     },
     "execution_count": 11,
     "metadata": {},
     "output_type": "execute_result"
    }
   ],
   "source": [
    "# Bayesian Optimization for Random Forest\n",
    "start_time_total = time.time()\n",
    "start_time_opt = time.time()\n",
    "log_status(\"Optimizing Random Forest with Bayesian Optimization...\")\n",
    "rfc_search = BayesSearchCV(\n",
    "    RandomForestClassifier(random_state=42),\n",
    "    {\n",
    "        'n_estimators': (10, 200),\n",
    "        'max_depth': (1, 20),\n",
    "        'min_samples_split': (2, 20),\n",
    "        'min_samples_leaf': (1, 10)\n",
    "    },\n",
    "    n_iter=10, random_state=42, cv=3\n",
    ")\n",
    "rfc_search.fit(xv_train, y_train)\n",
    "opt_time = time.time() - start_time_opt\n",
    "start_time_train = time.time()\n",
    "rfc = rfc_search.best_estimator_\n",
    "print(\"Best hyperparameters for Random Forest:\")\n",
    "print(rfc)\n",
    "rfc.fit(xv_train, y_train)\n",
    "train_time = time.time() - start_time_train\n",
    "start_time_pred = time.time()\n",
    "pred_rfc = rfc.predict(xv_test)\n",
    "pred_time = time.time() - start_time_pred\n",
    "total_time = time.time() - start_time_total\n",
    "joblib.dump(rfc, 'random_forest.pkl')"
   ]
  },
  {
   "cell_type": "code",
   "execution_count": 12,
   "id": "49716dba",
   "metadata": {
    "execution": {
     "iopub.execute_input": "2025-05-27T00:42:02.886780Z",
     "iopub.status.busy": "2025-05-27T00:42:02.886545Z",
     "iopub.status.idle": "2025-05-27T00:42:02.902296Z",
     "shell.execute_reply": "2025-05-27T00:42:02.901397Z"
    },
    "papermill": {
     "duration": 0.021642,
     "end_time": "2025-05-27T00:42:02.903553",
     "exception": false,
     "start_time": "2025-05-27T00:42:02.881911",
     "status": "completed"
    },
    "tags": []
   },
   "outputs": [
    {
     "name": "stdout",
     "output_type": "stream",
     "text": [
      "Random Forest Accuracy: 0.9797772828507795\n",
      "Random Forest Hyperparameter Optimization Time: 327.9080 seconds\n",
      "Random Forest Training Time: 12.3189 seconds\n",
      "Random Forest Prediction Time: 1.3810 seconds\n",
      "Total Execution Time: 341.6080 seconds\n",
      "              precision    recall  f1-score   support\n",
      "\n",
      "           0       0.98      0.98      0.98      5883\n",
      "           1       0.98      0.98      0.98      5342\n",
      "\n",
      "    accuracy                           0.98     11225\n",
      "   macro avg       0.98      0.98      0.98     11225\n",
      "weighted avg       0.98      0.98      0.98     11225\n",
      "\n",
      "[2025-05-27 00:42:02] Random Forest optimization completed.\n"
     ]
    }
   ],
   "source": [
    "print(\"Random Forest Accuracy:\", accuracy_score(y_test, pred_rfc))\n",
    "print(\"Random Forest Hyperparameter Optimization Time: {:.4f} seconds\".format(opt_time))\n",
    "print(\"Random Forest Training Time: {:.4f} seconds\".format(train_time))\n",
    "print(\"Random Forest Prediction Time: {:.4f} seconds\".format(pred_time))\n",
    "print(\"Total Execution Time: {:.4f} seconds\".format(total_time))\n",
    "print(classification_report(y_test, pred_rfc))\n",
    "log_status(\"Random Forest optimization completed.\")"
   ]
  },
  {
   "cell_type": "markdown",
   "id": "f5b3b905",
   "metadata": {
    "papermill": {
     "duration": 0.00413,
     "end_time": "2025-05-27T00:42:02.912020",
     "exception": false,
     "start_time": "2025-05-27T00:42:02.907890",
     "status": "completed"
    },
    "tags": []
   },
   "source": [
    "# Naive Bayes"
   ]
  },
  {
   "cell_type": "code",
   "execution_count": 13,
   "id": "0ce60660",
   "metadata": {
    "execution": {
     "iopub.execute_input": "2025-05-27T00:42:02.921086Z",
     "iopub.status.busy": "2025-05-27T00:42:02.920828Z",
     "iopub.status.idle": "2025-05-27T00:42:05.315856Z",
     "shell.execute_reply": "2025-05-27T00:42:05.314923Z"
    },
    "papermill": {
     "duration": 2.401288,
     "end_time": "2025-05-27T00:42:05.317356",
     "exception": false,
     "start_time": "2025-05-27T00:42:02.916068",
     "status": "completed"
    },
    "tags": []
   },
   "outputs": [
    {
     "name": "stdout",
     "output_type": "stream",
     "text": [
      "[2025-05-27 00:42:02] Optimizing Naive Bayes with Bayesian Optimization...\n",
      "Best hyperparameters for Naive Bayes:\n",
      "MultinomialNB(alpha=0.0018214548318355843)\n"
     ]
    },
    {
     "data": {
      "text/plain": [
       "['naive_bayes.pkl']"
      ]
     },
     "execution_count": 13,
     "metadata": {},
     "output_type": "execute_result"
    }
   ],
   "source": [
    "# Bayesian Optimization for Naive Bayes\n",
    "start_time_total = time.time()\n",
    "start_time_opt = time.time()\n",
    "log_status(\"Optimizing Naive Bayes with Bayesian Optimization...\")\n",
    "nb_search = BayesSearchCV(\n",
    "    MultinomialNB(),\n",
    "    {\n",
    "        'alpha': (1e-6, 1.0, 'log-uniform')\n",
    "    },\n",
    "    n_iter=10, random_state=42, cv=3\n",
    ")\n",
    "nb_search.fit(xv_train, y_train)\n",
    "opt_time = time.time() - start_time_opt\n",
    "start_time_train = time.time()\n",
    "nb = nb_search.best_estimator_\n",
    "print(\"Best hyperparameters for Naive Bayes:\")\n",
    "print(nb)\n",
    "nb.fit(xv_train, y_train)\n",
    "train_time = time.time() - start_time_train\n",
    "start_time_pred = time.time()\n",
    "pred_nb = nb.predict(xv_test)\n",
    "pred_time = time.time() - start_time_pred\n",
    "total_time = time.time() - start_time_total\n",
    "joblib.dump(nb, 'naive_bayes.pkl')"
   ]
  },
  {
   "cell_type": "code",
   "execution_count": 14,
   "id": "a34695be",
   "metadata": {
    "execution": {
     "iopub.execute_input": "2025-05-27T00:42:05.327439Z",
     "iopub.status.busy": "2025-05-27T00:42:05.327184Z",
     "iopub.status.idle": "2025-05-27T00:42:05.343441Z",
     "shell.execute_reply": "2025-05-27T00:42:05.342720Z"
    },
    "papermill": {
     "duration": 0.02263,
     "end_time": "2025-05-27T00:42:05.344767",
     "exception": false,
     "start_time": "2025-05-27T00:42:05.322137",
     "status": "completed"
    },
    "tags": []
   },
   "outputs": [
    {
     "name": "stdout",
     "output_type": "stream",
     "text": [
      "Naive Bayes Accuracy: 0.9460133630289532\n",
      "Naive Bayes Hyperparameter Optimization Time: 2.3197 seconds\n",
      "Naive Bayes Training Time: 0.0502 seconds\n",
      "Naive Bayes Prediction Time: 0.0142 seconds\n",
      "Total Execution Time: 2.3843 seconds\n",
      "              precision    recall  f1-score   support\n",
      "\n",
      "           0       0.94      0.96      0.95      5883\n",
      "           1       0.96      0.93      0.94      5342\n",
      "\n",
      "    accuracy                           0.95     11225\n",
      "   macro avg       0.95      0.95      0.95     11225\n",
      "weighted avg       0.95      0.95      0.95     11225\n",
      "\n",
      "[2025-05-27 00:42:05] Naive Bayes optimization completed.\n"
     ]
    }
   ],
   "source": [
    "print(\"Naive Bayes Accuracy:\", accuracy_score(y_test, pred_nb))\n",
    "print(\"Naive Bayes Hyperparameter Optimization Time: {:.4f} seconds\".format(opt_time))\n",
    "print(\"Naive Bayes Training Time: {:.4f} seconds\".format(train_time))\n",
    "print(\"Naive Bayes Prediction Time: {:.4f} seconds\".format(pred_time))\n",
    "print(\"Total Execution Time: {:.4f} seconds\".format(total_time))\n",
    "print(classification_report(y_test, pred_nb))\n",
    "log_status(\"Naive Bayes optimization completed.\")"
   ]
  },
  {
   "cell_type": "markdown",
   "id": "c4d5e8e7",
   "metadata": {
    "papermill": {
     "duration": 0.004147,
     "end_time": "2025-05-27T00:42:05.353751",
     "exception": false,
     "start_time": "2025-05-27T00:42:05.349604",
     "status": "completed"
    },
    "tags": []
   },
   "source": [
    "# SVM "
   ]
  },
  {
   "cell_type": "code",
   "execution_count": 15,
   "id": "da33a795",
   "metadata": {
    "execution": {
     "iopub.execute_input": "2025-05-27T00:42:05.363348Z",
     "iopub.status.busy": "2025-05-27T00:42:05.363129Z",
     "iopub.status.idle": "2025-05-27T00:58:41.197540Z",
     "shell.execute_reply": "2025-05-27T00:58:41.196464Z"
    },
    "papermill": {
     "duration": 995.844873,
     "end_time": "2025-05-27T00:58:41.203028",
     "exception": false,
     "start_time": "2025-05-27T00:42:05.358155",
     "status": "completed"
    },
    "tags": []
   },
   "outputs": [
    {
     "name": "stdout",
     "output_type": "stream",
     "text": [
      "[2025-05-27 00:42:05] Optimizing SVM with Bayesian Optimization...\n",
      "Best hyperparameters for SVM:\n",
      "SVC(C=22.364202820542705, gamma=0.058429282697611454, kernel='linear',\n",
      "    random_state=42)\n"
     ]
    },
    {
     "data": {
      "text/plain": [
       "['svm.pkl']"
      ]
     },
     "execution_count": 15,
     "metadata": {},
     "output_type": "execute_result"
    }
   ],
   "source": [
    "# Bayesian Optimization for SVM\n",
    "log_status(\"Optimizing SVM with Bayesian Optimization...\")\n",
    "svm_search = BayesSearchCV(\n",
    "    SVC(random_state=42),\n",
    "    {\n",
    "        'C': (1e-2, 1e+2, 'log-uniform'),  \n",
    "        'kernel': ['linear', 'rbf'],        \n",
    "        'gamma': (1e-3, 1e-1, 'log-uniform') \n",
    "    },\n",
    "    n_iter=5,  \n",
    "    random_state=42, \n",
    "    cv=3,\n",
    "    n_jobs=-1  \n",
    ")\n",
    "xv_train_sample = xv_train[:5000]\n",
    "y_train_sample = y_train[:5000]\n",
    "start_time_opt_svm = time.time()\n",
    "svm_search.fit(xv_train_sample, y_train_sample)\n",
    "opt_time_svm = time.time() - start_time_opt_svm\n",
    "start_time_train_svm = time.time()\n",
    "SVM = svm_search.best_estimator_\n",
    "print(\"Best hyperparameters for SVM:\")\n",
    "print(SVM)\n",
    "SVM.fit(xv_train, y_train)\n",
    "train_time_svm = time.time() - start_time_train_svm\n",
    "start_time_pred_svm = time.time()\n",
    "pred_svm = SVM.predict(xv_test)\n",
    "pred_time_svm = time.time() - start_time_pred_svm\n",
    "\n",
    "total_time_svm = time.time() - start_time_opt_svm\n",
    "joblib.dump(SVM, 'svm.pkl')"
   ]
  },
  {
   "cell_type": "code",
   "execution_count": 16,
   "id": "cba318d7",
   "metadata": {
    "execution": {
     "iopub.execute_input": "2025-05-27T00:58:41.213471Z",
     "iopub.status.busy": "2025-05-27T00:58:41.213207Z",
     "iopub.status.idle": "2025-05-27T00:58:41.229908Z",
     "shell.execute_reply": "2025-05-27T00:58:41.229059Z"
    },
    "papermill": {
     "duration": 0.023363,
     "end_time": "2025-05-27T00:58:41.231149",
     "exception": false,
     "start_time": "2025-05-27T00:58:41.207786",
     "status": "completed"
    },
    "tags": []
   },
   "outputs": [
    {
     "name": "stdout",
     "output_type": "stream",
     "text": [
      "SVM Accuracy: 0.9939420935412027\n",
      "SVM Hyperparameter Optimization Time: 138.5997 seconds\n",
      "SVM Training Time: 775.1553 seconds\n",
      "SVM Prediction Time: 82.0453 seconds\n",
      "Total Execution Time: 995.8005 seconds\n",
      "              precision    recall  f1-score   support\n",
      "\n",
      "           0       0.99      1.00      0.99      5883\n",
      "           1       1.00      0.99      0.99      5342\n",
      "\n",
      "    accuracy                           0.99     11225\n",
      "   macro avg       0.99      0.99      0.99     11225\n",
      "weighted avg       0.99      0.99      0.99     11225\n",
      "\n",
      "[2025-05-27 00:58:41] SVM optimization completed.\n"
     ]
    }
   ],
   "source": [
    "print(\"SVM Accuracy:\", accuracy_score(y_test, pred_svm))\n",
    "print(\"SVM Hyperparameter Optimization Time: {:.4f} seconds\".format(opt_time_svm))\n",
    "print(\"SVM Training Time: {:.4f} seconds\".format(train_time_svm))\n",
    "print(\"SVM Prediction Time: {:.4f} seconds\".format(pred_time_svm))\n",
    "print(\"Total Execution Time: {:.4f} seconds\".format(total_time_svm))\n",
    "print(classification_report(y_test, pred_svm))\n",
    "\n",
    "log_status(\"SVM optimization completed.\")"
   ]
  }
 ],
 "metadata": {
  "kaggle": {
   "accelerator": "gpu",
   "dataSources": [
    {
     "datasetId": 72366,
     "sourceId": 159129,
     "sourceType": "datasetVersion"
    },
    {
     "datasetId": 4831777,
     "sourceId": 8165591,
     "sourceType": "datasetVersion"
    }
   ],
   "dockerImageVersionId": 30919,
   "isGpuEnabled": true,
   "isInternetEnabled": true,
   "language": "python",
   "sourceType": "notebook"
  },
  "kernelspec": {
   "display_name": "Python 3",
   "language": "python",
   "name": "python3"
  },
  "language_info": {
   "codemirror_mode": {
    "name": "ipython",
    "version": 3
   },
   "file_extension": ".py",
   "mimetype": "text/x-python",
   "name": "python",
   "nbconvert_exporter": "python",
   "pygments_lexer": "ipython3",
   "version": "3.10.12"
  },
  "papermill": {
   "default_parameters": {},
   "duration": 1708.581503,
   "end_time": "2025-05-27T00:58:41.956909",
   "environment_variables": {},
   "exception": null,
   "input_path": "__notebook__.ipynb",
   "output_path": "__notebook__.ipynb",
   "parameters": {},
   "start_time": "2025-05-27T00:30:13.375406",
   "version": "2.6.0"
  }
 },
 "nbformat": 4,
 "nbformat_minor": 5
}
