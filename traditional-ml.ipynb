{
 "cells": [
  {
   "cell_type": "markdown",
   "id": "c228e3b3",
   "metadata": {
    "papermill": {
     "duration": 0.004122,
     "end_time": "2025-05-21T07:57:02.229029",
     "exception": false,
     "start_time": "2025-05-21T07:57:02.224907",
     "status": "completed"
    },
    "tags": []
   },
   "source": [
    "# Data Import"
   ]
  },
  {
   "cell_type": "code",
   "execution_count": 1,
   "id": "dfd8f6b8",
   "metadata": {
    "_cell_guid": "b1076dfc-b9ad-4769-8c92-a6c4dae69d19",
    "_uuid": "8f2839f25d086af736a60e9eeb907d3b93b6e0e5",
    "execution": {
     "iopub.execute_input": "2025-05-21T07:57:02.237110Z",
     "iopub.status.busy": "2025-05-21T07:57:02.236819Z",
     "iopub.status.idle": "2025-05-21T07:57:04.925680Z",
     "shell.execute_reply": "2025-05-21T07:57:04.925000Z"
    },
    "papermill": {
     "duration": 2.694638,
     "end_time": "2025-05-21T07:57:04.927264",
     "exception": false,
     "start_time": "2025-05-21T07:57:02.232626",
     "status": "completed"
    },
    "tags": []
   },
   "outputs": [],
   "source": [
    "import pandas as pd\n",
    "import numpy as np\n",
    "import seaborn as sns\n",
    "import matplotlib.pyplot as plt\n",
    "from sklearn.model_selection import train_test_split\n",
    "from sklearn.metrics import accuracy_score, classification_report\n",
    "import re\n",
    "import string\n",
    "from sklearn.feature_extraction.text import TfidfVectorizer\n",
    "from sklearn.linear_model import LogisticRegression\n",
    "from sklearn.ensemble import RandomForestClassifier\n",
    "from sklearn.svm import SVC\n",
    "from sklearn.naive_bayes import MultinomialNB\n",
    "from skopt import BayesSearchCV\n",
    "import time\n",
    "import joblib"
   ]
  },
  {
   "cell_type": "markdown",
   "id": "59ad6721",
   "metadata": {
    "papermill": {
     "duration": 0.003458,
     "end_time": "2025-05-21T07:57:04.935152",
     "exception": false,
     "start_time": "2025-05-21T07:57:04.931694",
     "status": "completed"
    },
    "tags": []
   },
   "source": [
    "# Data Setting"
   ]
  },
  {
   "cell_type": "code",
   "execution_count": 2,
   "id": "8395e3d3",
   "metadata": {
    "execution": {
     "iopub.execute_input": "2025-05-21T07:57:04.943000Z",
     "iopub.status.busy": "2025-05-21T07:57:04.942650Z",
     "iopub.status.idle": "2025-05-21T07:57:04.945755Z",
     "shell.execute_reply": "2025-05-21T07:57:04.945169Z"
    },
    "papermill": {
     "duration": 0.008313,
     "end_time": "2025-05-21T07:57:04.946958",
     "exception": false,
     "start_time": "2025-05-21T07:57:04.938645",
     "status": "completed"
    },
    "tags": []
   },
   "outputs": [],
   "source": [
    "# Log current status\n",
    "def log_status(message):\n",
    "    print(f\"[{time.strftime('%Y-%m-%d %H:%M:%S')}] {message}\")"
   ]
  },
  {
   "cell_type": "code",
   "execution_count": 3,
   "id": "c47610fe",
   "metadata": {
    "execution": {
     "iopub.execute_input": "2025-05-21T07:57:04.954322Z",
     "iopub.status.busy": "2025-05-21T07:57:04.954115Z",
     "iopub.status.idle": "2025-05-21T07:57:07.503809Z",
     "shell.execute_reply": "2025-05-21T07:57:07.502837Z"
    },
    "papermill": {
     "duration": 2.55496,
     "end_time": "2025-05-21T07:57:07.505258",
     "exception": false,
     "start_time": "2025-05-21T07:57:04.950298",
     "status": "completed"
    },
    "tags": []
   },
   "outputs": [
    {
     "name": "stdout",
     "output_type": "stream",
     "text": [
      "[2025-05-21 07:57:04] Loading Fake and Real News Dataset...\n",
      "[2025-05-21 07:57:07] Loading FakeNewsNet BuzzFeed dataset...\n",
      "[2025-05-21 07:57:07] Merging all datasets...\n"
     ]
    }
   ],
   "source": [
    "# ✅ 1. 기존 Fake/True News 데이터 로드\n",
    "log_status(\"Loading Fake and Real News Dataset...\")\n",
    "df_fake = pd.read_csv(\"/kaggle/input/fake-and-real-news-dataset/Fake.csv\")\n",
    "df_true = pd.read_csv(\"/kaggle/input/fake-and-real-news-dataset/True.csv\")\n",
    "df_fake[\"class\"] = 0\n",
    "df_true[\"class\"] = 1\n",
    "df_fake[\"text\"] = df_fake[\"text\"]\n",
    "df_true[\"text\"] = df_true[\"text\"]\n",
    "\n",
    "# ✅ 2. FakeNewsNet (BuzzFeed) 데이터 로드\n",
    "log_status(\"Loading FakeNewsNet BuzzFeed dataset...\")\n",
    "df_buzz_fake = pd.read_csv(\"/kaggle/input/fakenewsnet/BuzzFeed_fake_news_content.csv\")\n",
    "df_buzz_real = pd.read_csv(\"/kaggle/input/fakenewsnet/BuzzFeed_real_news_content.csv\")\n",
    "\n",
    "# ✅ 3. 텍스트 구성: title + text\n",
    "df_buzz_fake[\"text\"] = df_buzz_fake[\"title\"].fillna('') + \" \" + df_buzz_fake[\"text\"].fillna('')\n",
    "df_buzz_real[\"text\"] = df_buzz_real[\"title\"].fillna('') + \" \" + df_buzz_real[\"text\"].fillna('')\n",
    "df_buzz_fake[\"class\"] = 0\n",
    "df_buzz_real[\"class\"] = 1\n",
    "\n",
    "# ✅ 4. 전체 병합\n",
    "log_status(\"Merging all datasets...\")\n",
    "df_combined = pd.concat([\n",
    "    df_fake[[\"text\", \"class\"]],\n",
    "    df_true[[\"text\", \"class\"]],\n",
    "    df_buzz_fake[[\"text\", \"class\"]],\n",
    "    df_buzz_real[[\"text\", \"class\"]]\n",
    "], axis=0).sample(frac=1).reset_index(drop=True)"
   ]
  },
  {
   "cell_type": "code",
   "execution_count": null,
   "id": "82669a35",
   "metadata": {
    "papermill": {
     "duration": 0.00344,
     "end_time": "2025-05-21T07:57:07.512705",
     "exception": false,
     "start_time": "2025-05-21T07:57:07.509265",
     "status": "completed"
    },
    "tags": []
   },
   "outputs": [],
   "source": []
  },
  {
   "cell_type": "code",
   "execution_count": 4,
   "id": "a35ad270",
   "metadata": {
    "execution": {
     "iopub.execute_input": "2025-05-21T07:57:07.520652Z",
     "iopub.status.busy": "2025-05-21T07:57:07.520369Z",
     "iopub.status.idle": "2025-05-21T07:57:26.807373Z",
     "shell.execute_reply": "2025-05-21T07:57:26.806701Z"
    },
    "papermill": {
     "duration": 19.292867,
     "end_time": "2025-05-21T07:57:26.809056",
     "exception": false,
     "start_time": "2025-05-21T07:57:07.516189",
     "status": "completed"
    },
    "tags": []
   },
   "outputs": [
    {
     "name": "stdout",
     "output_type": "stream",
     "text": [
      "[2025-05-21 07:57:07] Preprocessing text data...\n"
     ]
    }
   ],
   "source": [
    "# Text preprocessing function\n",
    "def clean_text(text):\n",
    "    text = text.lower()\n",
    "    text = re.sub('\\[.*?\\]', '', text)\n",
    "    text = re.sub(\"\\\\W\", \" \", text)\n",
    "    text = re.sub('https?://\\S+|www\\.\\S+', '', text)\n",
    "    text = re.sub('<.*?>+', '', text)\n",
    "    text = re.sub('[%s]' % re.escape(string.punctuation), '', text)\n",
    "    text = re.sub('\\n', '', text)\n",
    "    text = re.sub('\\w*\\d\\w*', '', text)\n",
    "    return text\n",
    "\n",
    "log_status(\"Preprocessing text data...\")\n",
    "df_combined[\"text\"] = df_combined[\"text\"].apply(clean_text)"
   ]
  },
  {
   "cell_type": "code",
   "execution_count": 5,
   "id": "dd18fac0",
   "metadata": {
    "execution": {
     "iopub.execute_input": "2025-05-21T07:57:26.817909Z",
     "iopub.status.busy": "2025-05-21T07:57:26.817673Z",
     "iopub.status.idle": "2025-05-21T07:57:26.826476Z",
     "shell.execute_reply": "2025-05-21T07:57:26.825716Z"
    },
    "papermill": {
     "duration": 0.014397,
     "end_time": "2025-05-21T07:57:26.827803",
     "exception": false,
     "start_time": "2025-05-21T07:57:26.813406",
     "status": "completed"
    },
    "tags": []
   },
   "outputs": [],
   "source": [
    "# Split the data\n",
    "x = df_combined[\"text\"]\n",
    "y = df_combined[\"class\"]\n",
    "x_train, x_test, y_train, y_test = train_test_split(x, y, test_size=0.25, random_state=42)"
   ]
  },
  {
   "cell_type": "code",
   "execution_count": 6,
   "id": "f9fab3be",
   "metadata": {
    "execution": {
     "iopub.execute_input": "2025-05-21T07:57:26.835739Z",
     "iopub.status.busy": "2025-05-21T07:57:26.835476Z",
     "iopub.status.idle": "2025-05-21T07:57:38.486795Z",
     "shell.execute_reply": "2025-05-21T07:57:38.486096Z"
    },
    "papermill": {
     "duration": 11.656663,
     "end_time": "2025-05-21T07:57:38.488230",
     "exception": false,
     "start_time": "2025-05-21T07:57:26.831567",
     "status": "completed"
    },
    "tags": []
   },
   "outputs": [],
   "source": [
    "# Vectorize the text\n",
    "vectorizer = TfidfVectorizer()\n",
    "xv_train = vectorizer.fit_transform(x_train)\n",
    "xv_test = vectorizer.transform(x_test)"
   ]
  },
  {
   "cell_type": "code",
   "execution_count": 7,
   "id": "d89275e9",
   "metadata": {
    "execution": {
     "iopub.execute_input": "2025-05-21T07:57:38.496986Z",
     "iopub.status.busy": "2025-05-21T07:57:38.496754Z",
     "iopub.status.idle": "2025-05-21T07:57:38.950966Z",
     "shell.execute_reply": "2025-05-21T07:57:38.950168Z"
    },
    "papermill": {
     "duration": 0.45993,
     "end_time": "2025-05-21T07:57:38.952348",
     "exception": false,
     "start_time": "2025-05-21T07:57:38.492418",
     "status": "completed"
    },
    "tags": []
   },
   "outputs": [
    {
     "data": {
      "text/plain": [
       "['vectorizer.pkl']"
      ]
     },
     "execution_count": 7,
     "metadata": {},
     "output_type": "execute_result"
    }
   ],
   "source": [
    "# Save vectorizer\n",
    "joblib.dump(vectorizer, 'vectorizer.pkl')"
   ]
  },
  {
   "cell_type": "markdown",
   "id": "fce889fa",
   "metadata": {
    "papermill": {
     "duration": 0.003589,
     "end_time": "2025-05-21T07:57:38.959922",
     "exception": false,
     "start_time": "2025-05-21T07:57:38.956333",
     "status": "completed"
    },
    "tags": []
   },
   "source": [
    "# Logistic Regression"
   ]
  },
  {
   "cell_type": "code",
   "execution_count": 8,
   "id": "46eebd90",
   "metadata": {
    "execution": {
     "iopub.execute_input": "2025-05-21T07:57:38.968394Z",
     "iopub.status.busy": "2025-05-21T07:57:38.968166Z",
     "iopub.status.idle": "2025-05-21T08:02:55.261942Z",
     "shell.execute_reply": "2025-05-21T08:02:55.260947Z"
    },
    "papermill": {
     "duration": 316.299248,
     "end_time": "2025-05-21T08:02:55.263306",
     "exception": false,
     "start_time": "2025-05-21T07:57:38.964058",
     "status": "completed"
    },
    "tags": []
   },
   "outputs": [
    {
     "name": "stdout",
     "output_type": "stream",
     "text": [
      "[2025-05-21 07:57:38] Optimizing Logistic Regression with Bayesian Optimization...\n",
      "Best hyperparameters for Logistic Regression:\n",
      "OrderedDict([('C', 554139.5475342941), ('solver', 'liblinear')])\n"
     ]
    },
    {
     "data": {
      "text/plain": [
       "['logistic_regression.pkl']"
      ]
     },
     "execution_count": 8,
     "metadata": {},
     "output_type": "execute_result"
    }
   ],
   "source": [
    "# Bayesian Optimization for Logistic Regression\n",
    "start_time_total = time.time()\n",
    "start_time_opt = time.time()\n",
    "log_status(\"Optimizing Logistic Regression with Bayesian Optimization...\")\n",
    "lr_search = BayesSearchCV(\n",
    "    LogisticRegression(max_iter=1000),\n",
    "    {\n",
    "        'C': (1e-6, 1e+6, 'log-uniform'),\n",
    "        'solver': ['liblinear', 'lbfgs']\n",
    "    },\n",
    "    n_iter=32, random_state=42, cv=3\n",
    ")\n",
    "lr_search.fit(xv_train, y_train)\n",
    "print(\"Best hyperparameters for Logistic Regression:\")\n",
    "print(lr_search.best_params_)\n",
    "opt_time = time.time() - start_time_opt\n",
    "start_time_train = time.time()\n",
    "lr = lr_search.best_estimator_\n",
    "lr.fit(xv_train, y_train)\n",
    "train_time = time.time() - start_time_train\n",
    "start_time_pred = time.time()\n",
    "pred_lr = lr.predict(xv_test)\n",
    "pred_time = time.time() - start_time_pred\n",
    "total_time = time.time() - start_time_total\n",
    "joblib.dump(lr, 'logistic_regression.pkl')"
   ]
  },
  {
   "cell_type": "code",
   "execution_count": 9,
   "id": "415843d0",
   "metadata": {
    "execution": {
     "iopub.execute_input": "2025-05-21T08:02:55.272514Z",
     "iopub.status.busy": "2025-05-21T08:02:55.272284Z",
     "iopub.status.idle": "2025-05-21T08:02:55.288003Z",
     "shell.execute_reply": "2025-05-21T08:02:55.287247Z"
    },
    "papermill": {
     "duration": 0.021334,
     "end_time": "2025-05-21T08:02:55.289138",
     "exception": false,
     "start_time": "2025-05-21T08:02:55.267804",
     "status": "completed"
    },
    "tags": []
   },
   "outputs": [
    {
     "name": "stdout",
     "output_type": "stream",
     "text": [
      "Logistic Regression Accuracy: 0.9939662821650399\n",
      "Logistic Regression Hyperparameter Optimization Time: 310.5482 seconds\n",
      "Logistic Regression Training Time: 5.7301 seconds\n",
      "Logistic Regression Prediction Time: 0.0068 seconds\n",
      "Total Execution Time: 316.2853 seconds\n",
      "              precision    recall  f1-score   support\n",
      "\n",
      "           0       0.99      0.99      0.99      5790\n",
      "           1       0.99      0.99      0.99      5480\n",
      "\n",
      "    accuracy                           0.99     11270\n",
      "   macro avg       0.99      0.99      0.99     11270\n",
      "weighted avg       0.99      0.99      0.99     11270\n",
      "\n",
      "[2025-05-21 08:02:55] Logistic Regression optimization completed.\n"
     ]
    }
   ],
   "source": [
    "print(\"Logistic Regression Accuracy:\", accuracy_score(y_test, pred_lr))\n",
    "print(\"Logistic Regression Hyperparameter Optimization Time: {:.4f} seconds\".format(opt_time))\n",
    "print(\"Logistic Regression Training Time: {:.4f} seconds\".format(train_time))\n",
    "print(\"Logistic Regression Prediction Time: {:.4f} seconds\".format(pred_time))\n",
    "print(\"Total Execution Time: {:.4f} seconds\".format(total_time))\n",
    "print(classification_report(y_test, pred_lr))\n",
    "log_status(\"Logistic Regression optimization completed.\")"
   ]
  },
  {
   "cell_type": "markdown",
   "id": "8dd44091",
   "metadata": {
    "papermill": {
     "duration": 0.005083,
     "end_time": "2025-05-21T08:02:55.298823",
     "exception": false,
     "start_time": "2025-05-21T08:02:55.293740",
     "status": "completed"
    },
    "tags": []
   },
   "source": [
    "# Random Forest"
   ]
  },
  {
   "cell_type": "code",
   "execution_count": 10,
   "id": "9fe872f0",
   "metadata": {
    "execution": {
     "iopub.execute_input": "2025-05-21T08:02:55.307839Z",
     "iopub.status.busy": "2025-05-21T08:02:55.307597Z",
     "iopub.status.idle": "2025-05-21T08:08:39.959699Z",
     "shell.execute_reply": "2025-05-21T08:08:39.958619Z"
    },
    "papermill": {
     "duration": 344.658558,
     "end_time": "2025-05-21T08:08:39.961532",
     "exception": false,
     "start_time": "2025-05-21T08:02:55.302974",
     "status": "completed"
    },
    "tags": []
   },
   "outputs": [
    {
     "name": "stdout",
     "output_type": "stream",
     "text": [
      "[2025-05-21 08:02:55] Optimizing Random Forest with Bayesian Optimization...\n",
      "Best hyperparameters for Random Forest:\n",
      "RandomForestClassifier(max_depth=19, min_samples_leaf=7, min_samples_split=18,\n",
      "                       n_estimators=89, random_state=42)\n"
     ]
    },
    {
     "data": {
      "text/plain": [
       "['random_forest.pkl']"
      ]
     },
     "execution_count": 10,
     "metadata": {},
     "output_type": "execute_result"
    }
   ],
   "source": [
    "# Bayesian Optimization for Random Forest\n",
    "start_time_total = time.time()\n",
    "start_time_opt = time.time()\n",
    "log_status(\"Optimizing Random Forest with Bayesian Optimization...\")\n",
    "rfc_search = BayesSearchCV(\n",
    "    RandomForestClassifier(random_state=42),\n",
    "    {\n",
    "        'n_estimators': (10, 200),\n",
    "        'max_depth': (1, 20),\n",
    "        'min_samples_split': (2, 20),\n",
    "        'min_samples_leaf': (1, 10)\n",
    "    },\n",
    "    n_iter=10, random_state=42, cv=3\n",
    ")\n",
    "rfc_search.fit(xv_train, y_train)\n",
    "opt_time = time.time() - start_time_opt\n",
    "start_time_train = time.time()\n",
    "rfc = rfc_search.best_estimator_\n",
    "print(\"Best hyperparameters for Random Forest:\")\n",
    "print(rfc)\n",
    "rfc.fit(xv_train, y_train)\n",
    "train_time = time.time() - start_time_train\n",
    "start_time_pred = time.time()\n",
    "pred_rfc = rfc.predict(xv_test)\n",
    "pred_time = time.time() - start_time_pred\n",
    "total_time = time.time() - start_time_total\n",
    "joblib.dump(rfc, 'random_forest.pkl')"
   ]
  },
  {
   "cell_type": "code",
   "execution_count": 11,
   "id": "01b5b614",
   "metadata": {
    "execution": {
     "iopub.execute_input": "2025-05-21T08:08:39.973857Z",
     "iopub.status.busy": "2025-05-21T08:08:39.973467Z",
     "iopub.status.idle": "2025-05-21T08:08:39.993630Z",
     "shell.execute_reply": "2025-05-21T08:08:39.992313Z"
    },
    "papermill": {
     "duration": 0.028586,
     "end_time": "2025-05-21T08:08:39.995675",
     "exception": false,
     "start_time": "2025-05-21T08:08:39.967089",
     "status": "completed"
    },
    "tags": []
   },
   "outputs": [
    {
     "name": "stdout",
     "output_type": "stream",
     "text": [
      "Random Forest Accuracy: 0.9784383318544809\n",
      "Random Forest Hyperparameter Optimization Time: 332.4439 seconds\n",
      "Random Forest Training Time: 11.1793 seconds\n",
      "Random Forest Prediction Time: 0.9767 seconds\n",
      "Total Execution Time: 344.6001 seconds\n",
      "              precision    recall  f1-score   support\n",
      "\n",
      "           0       0.98      0.98      0.98      5790\n",
      "           1       0.98      0.98      0.98      5480\n",
      "\n",
      "    accuracy                           0.98     11270\n",
      "   macro avg       0.98      0.98      0.98     11270\n",
      "weighted avg       0.98      0.98      0.98     11270\n",
      "\n",
      "[2025-05-21 08:08:39] Random Forest optimization completed.\n"
     ]
    }
   ],
   "source": [
    "print(\"Random Forest Accuracy:\", accuracy_score(y_test, pred_rfc))\n",
    "print(\"Random Forest Hyperparameter Optimization Time: {:.4f} seconds\".format(opt_time))\n",
    "print(\"Random Forest Training Time: {:.4f} seconds\".format(train_time))\n",
    "print(\"Random Forest Prediction Time: {:.4f} seconds\".format(pred_time))\n",
    "print(\"Total Execution Time: {:.4f} seconds\".format(total_time))\n",
    "print(classification_report(y_test, pred_rfc))\n",
    "log_status(\"Random Forest optimization completed.\")"
   ]
  },
  {
   "cell_type": "markdown",
   "id": "43f92c10",
   "metadata": {
    "papermill": {
     "duration": 0.005277,
     "end_time": "2025-05-21T08:08:40.006707",
     "exception": false,
     "start_time": "2025-05-21T08:08:40.001430",
     "status": "completed"
    },
    "tags": []
   },
   "source": [
    "# Naive Bayes"
   ]
  },
  {
   "cell_type": "code",
   "execution_count": 12,
   "id": "a39b820a",
   "metadata": {
    "execution": {
     "iopub.execute_input": "2025-05-21T08:08:40.019111Z",
     "iopub.status.busy": "2025-05-21T08:08:40.018728Z",
     "iopub.status.idle": "2025-05-21T08:08:43.267775Z",
     "shell.execute_reply": "2025-05-21T08:08:43.266701Z"
    },
    "papermill": {
     "duration": 3.257296,
     "end_time": "2025-05-21T08:08:43.269490",
     "exception": false,
     "start_time": "2025-05-21T08:08:40.012194",
     "status": "completed"
    },
    "tags": []
   },
   "outputs": [
    {
     "name": "stdout",
     "output_type": "stream",
     "text": [
      "[2025-05-21 08:08:40] Optimizing Naive Bayes with Bayesian Optimization...\n",
      "Best hyperparameters for Naive Bayes:\n",
      "MultinomialNB(alpha=0.0018214548318355843)\n"
     ]
    },
    {
     "data": {
      "text/plain": [
       "['naive_bayes.pkl']"
      ]
     },
     "execution_count": 12,
     "metadata": {},
     "output_type": "execute_result"
    }
   ],
   "source": [
    "# Bayesian Optimization for Naive Bayes\n",
    "start_time_total = time.time()\n",
    "start_time_opt = time.time()\n",
    "log_status(\"Optimizing Naive Bayes with Bayesian Optimization...\")\n",
    "nb_search = BayesSearchCV(\n",
    "    MultinomialNB(),\n",
    "    {\n",
    "        'alpha': (1e-6, 1.0, 'log-uniform')\n",
    "    },\n",
    "    n_iter=10, random_state=42, cv=3\n",
    ")\n",
    "nb_search.fit(xv_train, y_train)\n",
    "opt_time = time.time() - start_time_opt\n",
    "start_time_train = time.time()\n",
    "nb = nb_search.best_estimator_\n",
    "print(\"Best hyperparameters for Naive Bayes:\")\n",
    "print(nb)\n",
    "nb.fit(xv_train, y_train)\n",
    "train_time = time.time() - start_time_train\n",
    "start_time_pred = time.time()\n",
    "pred_nb = nb.predict(xv_test)\n",
    "pred_time = time.time() - start_time_pred\n",
    "total_time = time.time() - start_time_total\n",
    "joblib.dump(nb, 'naive_bayes.pkl')"
   ]
  },
  {
   "cell_type": "code",
   "execution_count": 13,
   "id": "3511468d",
   "metadata": {
    "execution": {
     "iopub.execute_input": "2025-05-21T08:08:43.282340Z",
     "iopub.status.busy": "2025-05-21T08:08:43.282000Z",
     "iopub.status.idle": "2025-05-21T08:08:43.304508Z",
     "shell.execute_reply": "2025-05-21T08:08:43.303312Z"
    },
    "papermill": {
     "duration": 0.031035,
     "end_time": "2025-05-21T08:08:43.306431",
     "exception": false,
     "start_time": "2025-05-21T08:08:43.275396",
     "status": "completed"
    },
    "tags": []
   },
   "outputs": [
    {
     "name": "stdout",
     "output_type": "stream",
     "text": [
      "Naive Bayes Accuracy: 0.9469387755102041\n",
      "Naive Bayes Hyperparameter Optimization Time: 3.1523 seconds\n",
      "Naive Bayes Training Time: 0.0643 seconds\n",
      "Naive Bayes Prediction Time: 0.0186 seconds\n",
      "Total Execution Time: 3.2354 seconds\n",
      "              precision    recall  f1-score   support\n",
      "\n",
      "           0       0.94      0.96      0.95      5790\n",
      "           1       0.96      0.93      0.94      5480\n",
      "\n",
      "    accuracy                           0.95     11270\n",
      "   macro avg       0.95      0.95      0.95     11270\n",
      "weighted avg       0.95      0.95      0.95     11270\n",
      "\n",
      "[2025-05-21 08:08:43] Naive Bayes optimization completed.\n"
     ]
    }
   ],
   "source": [
    "print(\"Naive Bayes Accuracy:\", accuracy_score(y_test, pred_nb))\n",
    "print(\"Naive Bayes Hyperparameter Optimization Time: {:.4f} seconds\".format(opt_time))\n",
    "print(\"Naive Bayes Training Time: {:.4f} seconds\".format(train_time))\n",
    "print(\"Naive Bayes Prediction Time: {:.4f} seconds\".format(pred_time))\n",
    "print(\"Total Execution Time: {:.4f} seconds\".format(total_time))\n",
    "print(classification_report(y_test, pred_nb))\n",
    "log_status(\"Naive Bayes optimization completed.\")"
   ]
  },
  {
   "cell_type": "markdown",
   "id": "60adb1a0",
   "metadata": {
    "papermill": {
     "duration": 0.005807,
     "end_time": "2025-05-21T08:08:43.318330",
     "exception": false,
     "start_time": "2025-05-21T08:08:43.312523",
     "status": "completed"
    },
    "tags": []
   },
   "source": [
    "# SVM "
   ]
  },
  {
   "cell_type": "code",
   "execution_count": 14,
   "id": "942b2ecc",
   "metadata": {
    "execution": {
     "iopub.execute_input": "2025-05-21T08:08:43.331605Z",
     "iopub.status.busy": "2025-05-21T08:08:43.331183Z",
     "iopub.status.idle": "2025-05-21T08:26:46.496451Z",
     "shell.execute_reply": "2025-05-21T08:26:46.495305Z"
    },
    "papermill": {
     "duration": 1083.178906,
     "end_time": "2025-05-21T08:26:46.503153",
     "exception": false,
     "start_time": "2025-05-21T08:08:43.324247",
     "status": "completed"
    },
    "tags": []
   },
   "outputs": [
    {
     "name": "stdout",
     "output_type": "stream",
     "text": [
      "[2025-05-21 08:08:43] Optimizing SVM with Bayesian Optimization...\n",
      "Best hyperparameters for SVM:\n",
      "SVC(C=0.6016307829589929, gamma=0.06877728743793542, kernel='linear',\n",
      "    random_state=42)\n"
     ]
    },
    {
     "data": {
      "text/plain": [
       "['svm.pkl']"
      ]
     },
     "execution_count": 14,
     "metadata": {},
     "output_type": "execute_result"
    }
   ],
   "source": [
    "# Bayesian Optimization for SVM\n",
    "log_status(\"Optimizing SVM with Bayesian Optimization...\")\n",
    "svm_search = BayesSearchCV(\n",
    "    SVC(random_state=42),\n",
    "    {\n",
    "        'C': (1e-2, 1e+2, 'log-uniform'),  \n",
    "        'kernel': ['linear', 'rbf'],        \n",
    "        'gamma': (1e-3, 1e-1, 'log-uniform') \n",
    "    },\n",
    "    n_iter=5,  \n",
    "    random_state=42, \n",
    "    cv=3,\n",
    "    n_jobs=-1  \n",
    ")\n",
    "xv_train_sample = xv_train[:5000]\n",
    "y_train_sample = y_train[:5000]\n",
    "start_time_opt_svm = time.time()\n",
    "svm_search.fit(xv_train_sample, y_train_sample)\n",
    "opt_time_svm = time.time() - start_time_opt_svm\n",
    "start_time_train_svm = time.time()\n",
    "SVM = svm_search.best_estimator_\n",
    "print(\"Best hyperparameters for SVM:\")\n",
    "print(SVM)\n",
    "SVM.fit(xv_train, y_train)\n",
    "train_time_svm = time.time() - start_time_train_svm\n",
    "start_time_pred_svm = time.time()\n",
    "pred_svm = SVM.predict(xv_test)\n",
    "pred_time_svm = time.time() - start_time_pred_svm\n",
    "\n",
    "total_time_svm = time.time() - start_time_opt_svm\n",
    "joblib.dump(SVM, 'svm.pkl')"
   ]
  },
  {
   "cell_type": "code",
   "execution_count": 15,
   "id": "9e56d379",
   "metadata": {
    "execution": {
     "iopub.execute_input": "2025-05-21T08:26:46.515094Z",
     "iopub.status.busy": "2025-05-21T08:26:46.514799Z",
     "iopub.status.idle": "2025-05-21T08:26:46.533796Z",
     "shell.execute_reply": "2025-05-21T08:26:46.532652Z"
    },
    "papermill": {
     "duration": 0.026579,
     "end_time": "2025-05-21T08:26:46.535203",
     "exception": false,
     "start_time": "2025-05-21T08:26:46.508624",
     "status": "completed"
    },
    "tags": []
   },
   "outputs": [
    {
     "name": "stdout",
     "output_type": "stream",
     "text": [
      "SVM Accuracy: 0.9912156166814552\n",
      "SVM Hyperparameter Optimization Time: 161.5686 seconds\n",
      "SVM Training Time: 807.5440 seconds\n",
      "SVM Prediction Time: 114.0114 seconds\n",
      "Total Execution Time: 1083.1241 seconds\n",
      "              precision    recall  f1-score   support\n",
      "\n",
      "           0       0.99      0.99      0.99      5790\n",
      "           1       0.99      0.99      0.99      5480\n",
      "\n",
      "    accuracy                           0.99     11270\n",
      "   macro avg       0.99      0.99      0.99     11270\n",
      "weighted avg       0.99      0.99      0.99     11270\n",
      "\n",
      "[2025-05-21 08:26:46] SVM optimization completed.\n"
     ]
    }
   ],
   "source": [
    "print(\"SVM Accuracy:\", accuracy_score(y_test, pred_svm))\n",
    "print(\"SVM Hyperparameter Optimization Time: {:.4f} seconds\".format(opt_time_svm))\n",
    "print(\"SVM Training Time: {:.4f} seconds\".format(train_time_svm))\n",
    "print(\"SVM Prediction Time: {:.4f} seconds\".format(pred_time_svm))\n",
    "print(\"Total Execution Time: {:.4f} seconds\".format(total_time_svm))\n",
    "print(classification_report(y_test, pred_svm))\n",
    "\n",
    "log_status(\"SVM optimization completed.\")"
   ]
  }
 ],
 "metadata": {
  "kaggle": {
   "accelerator": "gpu",
   "dataSources": [
    {
     "datasetId": 72366,
     "sourceId": 159129,
     "sourceType": "datasetVersion"
    },
    {
     "datasetId": 4831777,
     "sourceId": 8165591,
     "sourceType": "datasetVersion"
    }
   ],
   "dockerImageVersionId": 30919,
   "isGpuEnabled": true,
   "isInternetEnabled": true,
   "language": "python",
   "sourceType": "notebook"
  },
  "kernelspec": {
   "display_name": "Python 3",
   "language": "python",
   "name": "python3"
  },
  "language_info": {
   "codemirror_mode": {
    "name": "ipython",
    "version": 3
   },
   "file_extension": ".py",
   "mimetype": "text/x-python",
   "name": "python",
   "nbconvert_exporter": "python",
   "pygments_lexer": "ipython3",
   "version": "3.10.12"
  },
  "papermill": {
   "default_parameters": {},
   "duration": 1787.760951,
   "end_time": "2025-05-21T08:26:47.361344",
   "environment_variables": {},
   "exception": null,
   "input_path": "__notebook__.ipynb",
   "output_path": "__notebook__.ipynb",
   "parameters": {},
   "start_time": "2025-05-21T07:56:59.600393",
   "version": "2.6.0"
  }
 },
 "nbformat": 4,
 "nbformat_minor": 5
}
